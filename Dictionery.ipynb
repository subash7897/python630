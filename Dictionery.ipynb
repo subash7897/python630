{
 "cells": [
  {
   "cell_type": "code",
   "execution_count": 1,
   "id": "b5360e5e-ff14-4d19-9321-11ea6de93fc3",
   "metadata": {},
   "outputs": [],
   "source": [
    "# Dict\n",
    "# -indexing\n",
    "# -Multiple and Duplicate Data\n",
    "# -Mutable"
   ]
  },
  {
   "cell_type": "code",
   "execution_count": 3,
   "id": "b45039b6-e2d1-467b-befa-3fc7b9a12562",
   "metadata": {},
   "outputs": [],
   "source": [
    "# d= {<key>:<value>,<key>:<value>,......}"
   ]
  },
  {
   "cell_type": "code",
   "execution_count": 5,
   "id": "5f76c99f-ac31-438a-91e0-297c0274575d",
   "metadata": {},
   "outputs": [
    {
     "name": "stdout",
     "output_type": "stream",
     "text": [
      "<class 'dict'>\n"
     ]
    }
   ],
   "source": [
    "d= {'a':'Apple','b':'Ball'}\n",
    "print(type(d))"
   ]
  },
  {
   "cell_type": "code",
   "execution_count": 7,
   "id": "ce3dd448-96b1-4193-8754-130e496553c5",
   "metadata": {},
   "outputs": [
    {
     "name": "stdout",
     "output_type": "stream",
     "text": [
      "3\n"
     ]
    }
   ],
   "source": [
    "d={'name':'Ram','age':'34','add':'Kathmandu'}\n",
    "print(len(d))"
   ]
  },
  {
   "cell_type": "code",
   "execution_count": 19,
   "id": "643fea2f-1a1a-4521-b2ef-c27956fff3a0",
   "metadata": {},
   "outputs": [
    {
     "name": "stdout",
     "output_type": "stream",
     "text": [
      "Ram\n",
      "34\n",
      "Kathmandu\n"
     ]
    }
   ],
   "source": [
    "print(d['name'])\n",
    "print(d['age'])\n",
    "print(d['add'])\n",
    "      "
   ]
  },
  {
   "cell_type": "code",
   "execution_count": null,
   "id": "85718301-1d51-486f-96cc-70f600f1342a",
   "metadata": {},
   "outputs": [],
   "source": [
    "#CRUD"
   ]
  },
  {
   "cell_type": "code",
   "execution_count": 17,
   "id": "6654502b-7313-4209-9b1c-f80a7de614d7",
   "metadata": {},
   "outputs": [
    {
     "name": "stdout",
     "output_type": "stream",
     "text": [
      "dict_values(['Ram', '34', 'Kathmandu'])\n",
      "dict_keys(['name', 'age', 'add'])\n",
      "dict_items([('name', 'Ram'), ('age', '34'), ('add', 'Kathmandu')])\n"
     ]
    }
   ],
   "source": [
    "#Read\n",
    "d={'name':'Ram','age':'34','add':'Kathmandu'}\n",
    "print(d.values())\n",
    "print(d.keys())\n",
    "print(d.items())"
   ]
  },
  {
   "cell_type": "code",
   "execution_count": 13,
   "id": "8f9d9ac0-d97d-43fa-823e-fadbae7c2f4c",
   "metadata": {},
   "outputs": [
    {
     "name": "stdout",
     "output_type": "stream",
     "text": [
      "name\n",
      "age\n",
      "add\n"
     ]
    }
   ],
   "source": [
    "d={'name':'Ram','age':'34','add':'Kathmandu'}\n",
    "for i in d:\n",
    "    print(i)"
   ]
  },
  {
   "cell_type": "code",
   "execution_count": 15,
   "id": "d441b158-d81e-4dcb-a8f7-bb2e95d922bd",
   "metadata": {},
   "outputs": [
    {
     "name": "stdout",
     "output_type": "stream",
     "text": [
      "Ram\n",
      "34\n",
      "Kathmandu\n"
     ]
    }
   ],
   "source": [
    "d={'name':'Ram','age':'34','add':'Kathmandu'}\n",
    "for i in d.values():\n",
    "    print(i)\n",
    "    "
   ]
  },
  {
   "cell_type": "code",
   "execution_count": 21,
   "id": "1ba6c0d3-05df-49e3-8df7-744bbb555028",
   "metadata": {},
   "outputs": [],
   "source": [
    "#create #key should not be same but the value must be same\n",
    "d={'name':'Ram','age':'34','add':'Kathmandu'}"
   ]
  },
  {
   "cell_type": "code",
   "execution_count": 23,
   "id": "2045deba-e2c0-4983-916f-28210158f20b",
   "metadata": {},
   "outputs": [
    {
     "name": "stdout",
     "output_type": "stream",
     "text": [
      "{'Ram': 9845632145, 'Shyam': 9863214567, 'Hari': 98478653231}\n"
     ]
    }
   ],
   "source": [
    "d={}\n",
    "d['Ram']=9845632145\n",
    "d['Shyam']=9863214567\n",
    "d['Hari']=98478653231\n",
    "print(d)"
   ]
  },
  {
   "cell_type": "code",
   "execution_count": 25,
   "id": "a7bffea8-6097-4d33-b504-e8309c9079f6",
   "metadata": {},
   "outputs": [],
   "source": [
    "# In Dict there is no concardination + *\n",
    "# we have to use update function"
   ]
  },
  {
   "cell_type": "code",
   "execution_count": 27,
   "id": "1ff5d407-7c8a-43f5-a176-a47004abebea",
   "metadata": {},
   "outputs": [
    {
     "name": "stdout",
     "output_type": "stream",
     "text": [
      "{1: 1, 2: 4, 3: 9, 4: 16, 5: 25, 6: 36, 7: 49}\n"
     ]
    }
   ],
   "source": [
    "a={1:1, 2:4, 3:9, 4:16}\n",
    "b={5:25, 6:36, 7:49}\n",
    "a.update(b)\n",
    "print(a)\n"
   ]
  },
  {
   "cell_type": "code",
   "execution_count": 29,
   "id": "b708189e-8a1f-4bc4-9a5c-468a2bfd7ccd",
   "metadata": {},
   "outputs": [
    {
     "name": "stdin",
     "output_type": "stream",
     "text": [
      "Enter n= 2\n",
      "Enter name= Ram\n",
      "Enter phone= 98654323145\n",
      "Enter name= Shyam\n",
      "Enter phone= 9874563214\n"
     ]
    },
    {
     "name": "stdout",
     "output_type": "stream",
     "text": [
      "{'Ram': '98654323145', 'Shyam': '9874563214'}\n"
     ]
    }
   ],
   "source": [
    "d=dict()\n",
    "n=int(input(\"Enter n=\"))\n",
    "for i in range(n):\n",
    "    name= input(\"Enter name=\")\n",
    "    phone= input(\"Enter phone=\")\n",
    "    d[name]=phone\n",
    "\n",
    "print(d)"
   ]
  },
  {
   "cell_type": "code",
   "execution_count": 31,
   "id": "4513251d-1bd6-4f06-96d0-5b37b9e9b35f",
   "metadata": {},
   "outputs": [],
   "source": [
    "# d[name]=phone\n",
    "#name=key and phone=value"
   ]
  },
  {
   "cell_type": "code",
   "execution_count": 33,
   "id": "80a90b4f-4073-43eb-a873-ed65abc3a366",
   "metadata": {},
   "outputs": [
    {
     "name": "stdout",
     "output_type": "stream",
     "text": [
      "{'Ram': '9803612345', 'Shyam': '9874563214'}\n"
     ]
    }
   ],
   "source": [
    "#update\n",
    "a={'Ram': '98654323145', 'Shyam': '9874563214'}\n",
    "a['Ram']='9803612345'\n",
    "print(a)"
   ]
  },
  {
   "cell_type": "code",
   "execution_count": 35,
   "id": "add23bab-2ac3-46dd-9aed-4188b9ee02ce",
   "metadata": {},
   "outputs": [
    {
     "name": "stdout",
     "output_type": "stream",
     "text": [
      "{'Ram': '98654323145', 'Shyam': '9874563214', 'Rama': '9803612345'}\n"
     ]
    }
   ],
   "source": [
    "#insert\n",
    "a={'Ram': '98654323145', 'Shyam': '9874563214'}\n",
    "a['Rama']='9803612345'\n",
    "print(a)"
   ]
  },
  {
   "cell_type": "code",
   "execution_count": 37,
   "id": "063a087e-8c38-4d1e-8a23-d936a997752b",
   "metadata": {},
   "outputs": [],
   "source": [
    "#delete \n",
    "#del() pop()\n"
   ]
  },
  {
   "cell_type": "code",
   "execution_count": 39,
   "id": "b5334bf8-6978-45aa-a495-011a4ca64854",
   "metadata": {},
   "outputs": [
    {
     "name": "stdout",
     "output_type": "stream",
     "text": [
      "{'Shyam': '9874563214', 'Rama': '9803612345'}\n"
     ]
    }
   ],
   "source": [
    "a={'Ram': '98654323145', 'Shyam': '9874563214', 'Rama': '9803612345'}\n",
    "del a['Ram']\n",
    "print(a)"
   ]
  },
  {
   "cell_type": "code",
   "execution_count": 41,
   "id": "dfb25d7b-66c4-41a9-ad17-56914f311c1c",
   "metadata": {},
   "outputs": [
    {
     "name": "stdout",
     "output_type": "stream",
     "text": [
      "{'Ram': '98654323145', 'Rama': '9803612345'}\n"
     ]
    }
   ],
   "source": [
    "a={'Ram': '98654323145', 'Shyam': '9874563214', 'Rama': '9803612345'}\n",
    "a.pop('Shyam')\n",
    "print(a)"
   ]
  },
  {
   "cell_type": "code",
   "execution_count": 43,
   "id": "8bfc271f-cffd-48f7-a0d4-ca344539b4ea",
   "metadata": {},
   "outputs": [
    {
     "name": "stdout",
     "output_type": "stream",
     "text": [
      "{'Shyam': '9874563214', 'Rama': '9803612345'}\n",
      "98654323145\n"
     ]
    }
   ],
   "source": [
    "a={'Ram': '98654323145', 'Shyam': '9874563214', 'Rama': '9803612345'}\n",
    "b= a.pop('Ram')\n",
    "print(a)\n",
    "print(b)"
   ]
  },
  {
   "cell_type": "code",
   "execution_count": 45,
   "id": "955e9958-99d7-4b14-ac7e-a391516cfd29",
   "metadata": {},
   "outputs": [],
   "source": [
    "#a={'Ram': '98654323145', 'Shyam': '9874563214', 'Rama': '9803612345'}"
   ]
  },
  {
   "cell_type": "code",
   "execution_count": 49,
   "id": "59e29e4c-bd2f-4fe9-9fa5-af6d0c6bf198",
   "metadata": {},
   "outputs": [],
   "source": [
    "#List inside dict\n",
    "# a={'Ram':[9845632145,987456331],\n",
    "#    'shyam':[9806812345,9845212365],\n",
    "#    'Hari':[9845678945,9815263214]}\n"
   ]
  },
  {
   "cell_type": "code",
   "execution_count": 51,
   "id": "76a812c4-1934-48a5-adac-841e82d6c0db",
   "metadata": {},
   "outputs": [],
   "source": [
    "# a={'name':['Ram','Shyam','Hari'],\n",
    "#    'age':[34,25,45],\n",
    "#    'add':[\"Kathmandu\",\"Bhaktapur\",\"Lalitpur\"]}"
   ]
  },
  {
   "cell_type": "code",
   "execution_count": 53,
   "id": "76c18c6b-37c5-4889-981e-0483bddaf14a",
   "metadata": {},
   "outputs": [
    {
     "name": "stdin",
     "output_type": "stream",
     "text": [
      "Enter no of rows= 2\n",
      "Enter name= Ram\n",
      "Enter ntc phone no= 9845632145\n",
      "Enter ncell phone no= 9806845632\n",
      "Enter name= Shyam\n",
      "Enter ntc phone no= 9845878945\n",
      "Enter ncell phone no= 9815263321\n"
     ]
    },
    {
     "name": "stdout",
     "output_type": "stream",
     "text": [
      "{'Ram': ['9845632145', '9806845632'], 'Shyam': ['9845878945', '9815263321']}\n"
     ]
    }
   ],
   "source": [
    "a={}\n",
    "n= int(input(\"Enter no of rows=\"))\n",
    "for i in range(n):\n",
    "    name= input(\"Enter name=\")\n",
    "    ntc= input(\"Enter ntc phone no=\")\n",
    "    ncell= input(\"Enter ncell phone no=\")\n",
    "    a[name]=[ntc,ncell]\n",
    "\n",
    "print(a)\n",
    "\n",
    "\n"
   ]
  },
  {
   "cell_type": "code",
   "execution_count": 57,
   "id": "1d22d16c-262b-41ad-b997-78397a802e1f",
   "metadata": {},
   "outputs": [
    {
     "name": "stdin",
     "output_type": "stream",
     "text": [
      "Enter no of rows= 2\n",
      "Enter name= Ram\n",
      "Enter ntc phone no= 9845633214\n",
      "Enter ncell phone no= 9806814567\n",
      "Enter name= Shyam\n",
      "Enter ntc phone no= 9845789632\n",
      "Enter ncell phone no= 9815236987\n"
     ]
    },
    {
     "name": "stdout",
     "output_type": "stream",
     "text": [
      "{'name': ['Ram', 'Shyam'], 'ntc': ['9845633214', '9845789632'], 'ncell': ['9806814567', '9815236987']}\n"
     ]
    }
   ],
   "source": [
    "# a={'name':['Ram','Shyam','Hari'],\n",
    "#    'age':[34,25,45],\n",
    "#    'add':[\"Kathmandu\",\"Bhaktapur\",\"Lalitpur\"]}\n",
    "a={\"name\":[],\n",
    "   \"ntc\":[],\n",
    "   \"ncell\":[]}\n",
    "n= int(input(\"Enter no of rows=\"))\n",
    "for i in range(n):\n",
    "    name= input(\"Enter name=\")\n",
    "    ntc= input(\"Enter ntc phone no=\")\n",
    "    ncell= input(\"Enter ncell phone no=\")\n",
    "    a[\"name\"].append(name)\n",
    "    a[\"ntc\"].append(ntc)\n",
    "    a[\"ncell\"].append(ncell)\n",
    "\n",
    "print(a)\n"
   ]
  },
  {
   "cell_type": "code",
   "execution_count": null,
   "id": "9031c1f9-c80d-4b4e-aa47-00450ec2688e",
   "metadata": {},
   "outputs": [],
   "source": []
  }
 ],
 "metadata": {
  "kernelspec": {
   "display_name": "Python [conda env:base] *",
   "language": "python",
   "name": "conda-base-py"
  },
  "language_info": {
   "codemirror_mode": {
    "name": "ipython",
    "version": 3
   },
   "file_extension": ".py",
   "mimetype": "text/x-python",
   "name": "python",
   "nbconvert_exporter": "python",
   "pygments_lexer": "ipython3",
   "version": "3.12.7"
  }
 },
 "nbformat": 4,
 "nbformat_minor": 5
}
