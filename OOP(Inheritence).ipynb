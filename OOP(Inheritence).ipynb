{
 "cells": [
  {
   "cell_type": "code",
   "execution_count": 1,
   "id": "3caa02e3-3731-4667-a0e8-22436acbba6d",
   "metadata": {},
   "outputs": [],
   "source": [
    "class A:         #parent class\n",
    "    pass\n",
    "\n",
    "class B(A):     #child class\n",
    "    pass\n",
    "\n",
    "obj=B()"
   ]
  },
  {
   "cell_type": "code",
   "execution_count": 3,
   "id": "11ab5a96-79f2-447b-9608-85f63ebe817a",
   "metadata": {},
   "outputs": [
    {
     "name": "stdout",
     "output_type": "stream",
     "text": [
      "Ram 34 Kathmandu\n",
      "Hello World I am Ram. I am from Kathmandu. I am 34\n"
     ]
    }
   ],
   "source": [
    "class Data:\n",
    "    def __init__(self,name,age,add):\n",
    "        self.name= name\n",
    "        self.age= age\n",
    "        self.add= add\n",
    "    def data(self):\n",
    "        print(self.name,self.age,self.add)\n",
    "\n",
    "class Info(Data):\n",
    "    def info(self):\n",
    "        a= f\"Hello World I am {self.name}. I am from {self.add}. I am {self.age}\"\n",
    "        print(a)\n",
    "\n",
    "obj= Info(\"Ram\",34,\"Kathmandu\")\n",
    "obj.data()\n",
    "obj.info()"
   ]
  },
  {
   "cell_type": "code",
   "execution_count": 5,
   "id": "4acbce1b-e977-40ac-8990-db8a502d7522",
   "metadata": {},
   "outputs": [
    {
     "name": "stdout",
     "output_type": "stream",
     "text": [
      "Kathmandu\n",
      "Hello World I am Ram. I am from Kathmandu. I am 34\n"
     ]
    }
   ],
   "source": [
    "class Data:\n",
    "    def __init__(self,add):\n",
    "        self.add= add\n",
    "    def data(self):\n",
    "        print(self.add)\n",
    "\n",
    "class Info(Data):\n",
    "    def __init__(self,name,age,add):\n",
    "        self.name= name\n",
    "        self.age= age\n",
    "        Data.__init__(self,add)\n",
    "    def info(self):\n",
    "        a= f\"Hello World I am {self.name}. I am from {self.add}. I am {self.age}\"\n",
    "        print(a)\n",
    "\n",
    "obj= Info(\"Ram\",34,\"Kathmandu\")\n",
    "obj.data()\n",
    "obj.info()"
   ]
  },
  {
   "cell_type": "code",
   "execution_count": 7,
   "id": "e5c24f52-5e8a-4d4f-bf0d-c3a251795c3b",
   "metadata": {},
   "outputs": [],
   "source": [
    "# Multi levelclass inheritence\n",
    "# class A:\n",
    "#     pass\n",
    "# class B(A):\n",
    "#     pass\n",
    "# class C(B):\n",
    "#     pass\n",
    "\n",
    "# obj=C()\n"
   ]
  },
  {
   "cell_type": "code",
   "execution_count": 11,
   "id": "ff05375e-00a6-46bb-996d-f91a9040c378",
   "metadata": {},
   "outputs": [
    {
     "name": "stdout",
     "output_type": "stream",
     "text": [
      "Kathmandu\n",
      "Hello World I am Ram. I am from Kathmandu. I am 34\n"
     ]
    }
   ],
   "source": [
    "#Multi level class inheritence\n",
    "class MyAge:\n",
    "    def __init__(self,age):\n",
    "        self.age=age\n",
    "    def myage(self):\n",
    "        print(self.myage)\n",
    "class Data(MyAge):\n",
    "    def __init__(self,age,add):\n",
    "        self.add= add\n",
    "        MyAge.__init__(self,age)\n",
    "    def data(self):\n",
    "        print(self.add)\n",
    "\n",
    "class Info(Data):\n",
    "    def __init__(self,name,age,add):\n",
    "        self.name= name\n",
    "        Data.__init__(self,age,add)\n",
    "    def info(self):\n",
    "        a= f\"Hello World I am {self.name}. I am from {self.add}. I am {self.age}\"\n",
    "        print(a)\n",
    "\n",
    "obj= Info(\"Ram\",34,\"Kathmandu\")\n",
    "obj.data()\n",
    "obj.info()"
   ]
  },
  {
   "cell_type": "code",
   "execution_count": 15,
   "id": "9418a589-20b2-43b5-aba4-60b47d7e6d81",
   "metadata": {},
   "outputs": [
    {
     "name": "stdout",
     "output_type": "stream",
     "text": [
      "Kathmandu\n",
      "34\n",
      "Hello World I am Ram. I am from Kathmandu. I am 34\n"
     ]
    }
   ],
   "source": [
    "# Multiple class inheritence\n",
    "class MyAge:\n",
    "    def __init__(self,age):\n",
    "        self.age=age\n",
    "    def myage(self):\n",
    "        print(self.age)\n",
    "class Data:\n",
    "    def __init__(self,add):\n",
    "        self.add= add\n",
    "    def data(self):\n",
    "        print(self.add)\n",
    "\n",
    "class Info(MyAge,Data):\n",
    "    def __init__(self,name,age,add):\n",
    "        self.name= name\n",
    "        Data.__init__(self,add)\n",
    "        MyAge.__init__(self,age)\n",
    "    def info(self):\n",
    "        a= f\"Hello World I am {self.name}. I am from {self.add}. I am {self.age}\"\n",
    "        print(a)\n",
    "\n",
    "obj= Info(\"Ram\",34,\"Kathmandu\")\n",
    "obj.data()\n",
    "obj.myage()\n",
    "obj.info()"
   ]
  },
  {
   "cell_type": "code",
   "execution_count": null,
   "id": "5e2a4621-09b7-4565-859d-46e09303e1ae",
   "metadata": {},
   "outputs": [],
   "source": []
  }
 ],
 "metadata": {
  "kernelspec": {
   "display_name": "Python [conda env:base] *",
   "language": "python",
   "name": "conda-base-py"
  },
  "language_info": {
   "codemirror_mode": {
    "name": "ipython",
    "version": 3
   },
   "file_extension": ".py",
   "mimetype": "text/x-python",
   "name": "python",
   "nbconvert_exporter": "python",
   "pygments_lexer": "ipython3",
   "version": "3.12.7"
  }
 },
 "nbformat": 4,
 "nbformat_minor": 5
}
