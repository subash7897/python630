{
 "cells": [
  {
   "cell_type": "code",
   "execution_count": 1,
   "id": "6a94f257-0ef4-4170-8c16-f3c9eb9b580c",
   "metadata": {},
   "outputs": [],
   "source": [
    "# loop\n",
    "# for loop \n",
    "# while loop"
   ]
  },
  {
   "cell_type": "code",
   "execution_count": 3,
   "id": "c0c694be-578e-4517-892e-cfa9cc7ed256",
   "metadata": {},
   "outputs": [],
   "source": [
    "# range(5)     #0,1,2,3,4\n",
    "# range(1,5)   #1,2,3,4\n",
    "# range(0,5,2) #0,2,4"
   ]
  },
  {
   "cell_type": "code",
   "execution_count": 11,
   "id": "9179f244-8fb8-46cc-a2f1-a9669b1003db",
   "metadata": {},
   "outputs": [
    {
     "name": "stdout",
     "output_type": "stream",
     "text": [
      "0 Hello World\n",
      "1 Hello World\n",
      "2 Hello World\n",
      "3 Hello World\n",
      "4 Hello World\n"
     ]
    }
   ],
   "source": [
    "for i in range(5):\n",
    "    print(i,\"Hello World\")"
   ]
  },
  {
   "cell_type": "code",
   "execution_count": 13,
   "id": "d9c8bf24-801f-4d5d-a94b-db7c0161a605",
   "metadata": {},
   "outputs": [
    {
     "name": "stdout",
     "output_type": "stream",
     "text": [
      "1 Hello World\n",
      "2 Hello World\n",
      "3 Hello World\n",
      "4 Hello World\n"
     ]
    }
   ],
   "source": [
    "for i in range(1,5):\n",
    "    print(i, \"Hello World\")"
   ]
  },
  {
   "cell_type": "code",
   "execution_count": 15,
   "id": "6e7a7efc-49f1-4b74-865c-1280b1421004",
   "metadata": {},
   "outputs": [
    {
     "name": "stdout",
     "output_type": "stream",
     "text": [
      "1 Hello World\n",
      "3 Hello World\n"
     ]
    }
   ],
   "source": [
    "for i in range(1,5,2):\n",
    "    print(i,\"Hello World\")"
   ]
  },
  {
   "cell_type": "code",
   "execution_count": 17,
   "id": "f400bf49-8aa2-49d7-aaf0-1ab28b24f05f",
   "metadata": {},
   "outputs": [
    {
     "name": "stdout",
     "output_type": "stream",
     "text": [
      "5\n",
      "10\n",
      "15\n",
      "20\n",
      "25\n",
      "30\n",
      "35\n",
      "40\n",
      "45\n",
      "50\n"
     ]
    }
   ],
   "source": [
    "for i in range(1,11):\n",
    "    print(5*i)"
   ]
  },
  {
   "cell_type": "code",
   "execution_count": 21,
   "id": "57683d4b-9489-4125-b2ce-e1140619ce77",
   "metadata": {},
   "outputs": [
    {
     "name": "stdin",
     "output_type": "stream",
     "text": [
      "Enter a= 6\n"
     ]
    },
    {
     "name": "stdout",
     "output_type": "stream",
     "text": [
      "6 * 1 = 6\n",
      "6 * 2 = 12\n",
      "6 * 3 = 18\n",
      "6 * 4 = 24\n",
      "6 * 5 = 30\n",
      "6 * 6 = 36\n",
      "6 * 7 = 42\n",
      "6 * 8 = 48\n",
      "6 * 9 = 54\n",
      "6 * 10 = 60\n"
     ]
    }
   ],
   "source": [
    "a= int(input(\"Enter a=\"))\n",
    "for i in range(1,11):\n",
    "    print(a,\"*\",i,\"=\",a*i)"
   ]
  },
  {
   "cell_type": "code",
   "execution_count": 23,
   "id": "785bbc87-6c72-4896-b964-f056920e593c",
   "metadata": {},
   "outputs": [
    {
     "name": "stdin",
     "output_type": "stream",
     "text": [
      "Enter a= 5\n"
     ]
    },
    {
     "name": "stdout",
     "output_type": "stream",
     "text": [
      "5\n"
     ]
    },
    {
     "name": "stdin",
     "output_type": "stream",
     "text": [
      "Enter a= 4\n"
     ]
    },
    {
     "name": "stdout",
     "output_type": "stream",
     "text": [
      "4\n"
     ]
    },
    {
     "name": "stdin",
     "output_type": "stream",
     "text": [
      "Enter a= 6\n"
     ]
    },
    {
     "name": "stdout",
     "output_type": "stream",
     "text": [
      "6\n"
     ]
    },
    {
     "name": "stdin",
     "output_type": "stream",
     "text": [
      "Enter a= 7\n"
     ]
    },
    {
     "name": "stdout",
     "output_type": "stream",
     "text": [
      "7\n"
     ]
    },
    {
     "name": "stdin",
     "output_type": "stream",
     "text": [
      "Enter a= 5\n"
     ]
    },
    {
     "name": "stdout",
     "output_type": "stream",
     "text": [
      "5\n"
     ]
    }
   ],
   "source": [
    "for i in range(5):\n",
    "    a= int(input(\"Enter a=\"))\n",
    "    print(a)"
   ]
  },
  {
   "cell_type": "code",
   "execution_count": 27,
   "id": "73a8c774-9f5c-48c3-8761-6d515689bb1b",
   "metadata": {},
   "outputs": [
    {
     "name": "stdin",
     "output_type": "stream",
     "text": [
      "Enter a= 1000\n"
     ]
    },
    {
     "name": "stdout",
     "output_type": "stream",
     "text": [
      "1000\n"
     ]
    },
    {
     "name": "stdin",
     "output_type": "stream",
     "text": [
      "Enter a= 2000\n"
     ]
    },
    {
     "name": "stdout",
     "output_type": "stream",
     "text": [
      "3000\n"
     ]
    },
    {
     "name": "stdin",
     "output_type": "stream",
     "text": [
      "Enter a= 500\n"
     ]
    },
    {
     "name": "stdout",
     "output_type": "stream",
     "text": [
      "3500\n"
     ]
    },
    {
     "name": "stdin",
     "output_type": "stream",
     "text": [
      "Enter a= 4000\n"
     ]
    },
    {
     "name": "stdout",
     "output_type": "stream",
     "text": [
      "7500\n"
     ]
    },
    {
     "name": "stdin",
     "output_type": "stream",
     "text": [
      "Enter a= 6000\n"
     ]
    },
    {
     "name": "stdout",
     "output_type": "stream",
     "text": [
      "13500\n"
     ]
    }
   ],
   "source": [
    "s=0\n",
    "for i in range(5):\n",
    "    a=int(input(\"Enter a=\"))\n",
    "    s=s+a\n",
    "    print(s)"
   ]
  },
  {
   "cell_type": "markdown",
   "id": "ca431a3c-0979-4f2a-91ee-98d09e4aa55d",
   "metadata": {},
   "source": [
    "s=0\n",
    "n= int(input(\"Enter n=\"))\n",
    "for i in range(n):\n",
    "    a=int(input(\"Enter a=\"))\n",
    "    s=s+a\n",
    "    print(s)"
   ]
  },
  {
   "cell_type": "code",
   "execution_count": 2,
   "id": "05df9a0f-6e93-45ad-b1e1-dd1ab9610a4b",
   "metadata": {},
   "outputs": [
    {
     "name": "stdin",
     "output_type": "stream",
     "text": [
      "Enter n= 3\n",
      "Enter a= 4000\n"
     ]
    },
    {
     "name": "stdout",
     "output_type": "stream",
     "text": [
      "4000\n"
     ]
    },
    {
     "name": "stdin",
     "output_type": "stream",
     "text": [
      "Enter a= 3000\n"
     ]
    },
    {
     "name": "stdout",
     "output_type": "stream",
     "text": [
      "7000\n"
     ]
    },
    {
     "name": "stdin",
     "output_type": "stream",
     "text": [
      "Enter a= 2000\n"
     ]
    },
    {
     "name": "stdout",
     "output_type": "stream",
     "text": [
      "9000\n"
     ]
    }
   ],
   "source": [
    "s=0\n",
    "n= int(input(\"Enter n=\"))\n",
    "for i in range(n):\n",
    "    a= int(input(\"Enter a=\"))\n",
    "    s=s+a\n",
    "    print(s)"
   ]
  },
  {
   "cell_type": "code",
   "execution_count": 8,
   "id": "7efb96a6-c09a-4760-a419-0449d7ca0401",
   "metadata": {},
   "outputs": [
    {
     "name": "stdin",
     "output_type": "stream",
     "text": [
      "Enter n= 2\n",
      "Enter name= Ram\n",
      "Enter phone= 9845632145\n",
      "Enter name= Shyam\n",
      "Enter phone= 985674563\n"
     ]
    },
    {
     "name": "stdout",
     "output_type": "stream",
     "text": [
      "Ram--9845632145\n",
      "Shyam--985674563\n",
      "\n"
     ]
    }
   ],
   "source": [
    "s = \"\"\n",
    "n =int(input(\"Enter n=\"))\n",
    "for i in range(n):\n",
    "    name= input(\"Enter name=\")\n",
    "    phone= input(\"Enter phone=\")\n",
    "    s= s+name+\"--\"+phone+\"\\n\"\n",
    "\n",
    "print(s)"
   ]
  },
  {
   "cell_type": "code",
   "execution_count": 10,
   "id": "a336cc6c-cdd2-4798-914c-375996829441",
   "metadata": {},
   "outputs": [],
   "source": [
    "# 4! = 1*2*3*4\n",
    "# 5 = 1+2+3+4+5"
   ]
  },
  {
   "cell_type": "code",
   "execution_count": 12,
   "id": "bcb1e10a-0434-4ff5-8ce4-e5fb9fb98647",
   "metadata": {},
   "outputs": [
    {
     "name": "stdin",
     "output_type": "stream",
     "text": [
      "Enter n= 5\n"
     ]
    },
    {
     "name": "stdout",
     "output_type": "stream",
     "text": [
      "i= 1\n",
      "s= 1\n",
      "i= 2\n",
      "s= 3\n",
      "i= 3\n",
      "s= 6\n",
      "i= 4\n",
      "s= 10\n",
      "i= 5\n",
      "s= 15\n"
     ]
    }
   ],
   "source": [
    "s = 0\n",
    "n = int(input(\"Enter n=\"))\n",
    "for i in range(1,n+1):\n",
    "    s=s+i\n",
    "    print(\"i=\",i)\n",
    "    print(\"s=\",s)\n",
    "    \n",
    "    "
   ]
  },
  {
   "cell_type": "code",
   "execution_count": 14,
   "id": "1080cc0a-44cb-451a-9f0b-1d0305cda7f9",
   "metadata": {},
   "outputs": [
    {
     "name": "stdin",
     "output_type": "stream",
     "text": [
      "Enter n= 5\n"
     ]
    },
    {
     "name": "stdout",
     "output_type": "stream",
     "text": [
      "s= 1\n",
      "s= 2\n",
      "s= 6\n",
      "s= 24\n",
      "s= 120\n"
     ]
    }
   ],
   "source": [
    "s= 1\n",
    "n = int(input(\"Enter n=\"))\n",
    "for i in range(1,n+1):\n",
    "    s=s*i\n",
    "    print(\"s=\",s)\n",
    "    "
   ]
  },
  {
   "cell_type": "code",
   "execution_count": 16,
   "id": "95b646e4-82bb-43a0-bc3d-7a39c222883c",
   "metadata": {},
   "outputs": [
    {
     "name": "stdout",
     "output_type": "stream",
     "text": [
      "\n",
      "*\n",
      "**\n",
      "***\n",
      "****\n"
     ]
    }
   ],
   "source": [
    "for i in range(5):\n",
    "    print(i*'*')"
   ]
  },
  {
   "cell_type": "code",
   "execution_count": 22,
   "id": "8d077c04-5695-4607-a7d6-a45a9ef28bac",
   "metadata": {},
   "outputs": [
    {
     "name": "stdout",
     "output_type": "stream",
     "text": [
      "      \n",
      "     *\n",
      "    ***\n",
      "   *****\n",
      "  *******\n",
      "    **\n",
      "    **\n",
      "    **\n",
      "    **\n",
      "    **\n"
     ]
    }
   ],
   "source": [
    "for i in range(5):\n",
    "    print(\" \"*(5-i),(2*i-1)*'*')\n",
    "for i in range(5):\n",
    "    print(\" \"*3,\"*\"*2)"
   ]
  },
  {
   "cell_type": "code",
   "execution_count": 3,
   "id": "54b2293a-ed21-40cc-b69d-d1cff02b29db",
   "metadata": {},
   "outputs": [
    {
     "name": "stdout",
     "output_type": "stream",
     "text": [
      "1\n",
      "2\n",
      "3\n",
      "4\n",
      "5\n",
      "6\n",
      "7\n",
      "8\n",
      "9\n",
      "10\n",
      "11\n",
      "12\n"
     ]
    }
   ],
   "source": [
    "for x in range(1,20):\n",
    "    if x==13:\n",
    "        break\n",
    "    else:\n",
    "        print(x)\n",
    "\n"
   ]
  },
  {
   "cell_type": "code",
   "execution_count": 1,
   "id": "abd7b3a4-aeca-4e71-90c7-c5805e10a4e2",
   "metadata": {},
   "outputs": [],
   "source": [
    "# loop in string\n"
   ]
  },
  {
   "cell_type": "code",
   "execution_count": 5,
   "id": "c05e99b9-bd74-4f01-b3dd-b503cc754436",
   "metadata": {},
   "outputs": [
    {
     "name": "stdout",
     "output_type": "stream",
     "text": [
      "H e l l o "
     ]
    }
   ],
   "source": [
    "a= \"Hello\"\n",
    "for i in a:\n",
    "    print(i, end=\" \")\n"
   ]
  },
  {
   "cell_type": "code",
   "execution_count": 7,
   "id": "1e1e6075-1732-427b-85d1-9658690f8024",
   "metadata": {},
   "outputs": [
    {
     "name": "stdout",
     "output_type": "stream",
     "text": [
      " Hello world I am python"
     ]
    }
   ],
   "source": [
    "a=\" Hello world. I am python.\"\n",
    "for i in a:\n",
    "    if i !=\".\":\n",
    "        print(i, end=\"\")"
   ]
  },
  {
   "cell_type": "code",
   "execution_count": 9,
   "id": "7ccb3e6c-5427-43bc-a313-ee3f88a217e9",
   "metadata": {},
   "outputs": [
    {
     "name": "stdout",
     "output_type": "stream",
     "text": [
      "Hello world I am python"
     ]
    }
   ],
   "source": [
    "a= \"Hello world! I am python.\"\n",
    "for i in a:\n",
    "    if i !=\".\" and i !=\"!\":\n",
    "        print(i, end= \"\")"
   ]
  },
  {
   "cell_type": "code",
   "execution_count": 11,
   "id": "75d4ac45-145f-4f39-a46d-8cb41db1f0e8",
   "metadata": {},
   "outputs": [
    {
     "name": "stdout",
     "output_type": "stream",
     "text": [
      "Hello world\n",
      "\n",
      " I am python."
     ]
    }
   ],
   "source": [
    "a= \"Hello world! I am python.\"\n",
    "for i in a:\n",
    "    if i !=\"!\":\n",
    "        print(i,end=\"\")\n",
    "    else:\n",
    "        print(\"\\n\")"
   ]
  },
  {
   "cell_type": "code",
   "execution_count": 13,
   "id": "459970de-7766-4805-9550-162617cb3351",
   "metadata": {},
   "outputs": [
    {
     "name": "stdout",
     "output_type": "stream",
     "text": [
      "Hello world"
     ]
    }
   ],
   "source": [
    "a= \"Hello world. I am python.\"\n",
    "for i in a:\n",
    "    if i !=\".\":\n",
    "        print(i,end=\"\")\n",
    "    else:\n",
    "        break"
   ]
  },
  {
   "cell_type": "code",
   "execution_count": 15,
   "id": "124cf357-9093-4807-9e42-20fa380a6444",
   "metadata": {},
   "outputs": [],
   "source": [
    "# control statement\n",
    "# break\n",
    "# continue"
   ]
  },
  {
   "cell_type": "code",
   "execution_count": 17,
   "id": "d5faf4cc-05a3-4816-a758-99bda9493f37",
   "metadata": {},
   "outputs": [
    {
     "name": "stdout",
     "output_type": "stream",
     "text": [
      "0\n",
      "1\n",
      "2\n",
      "3\n",
      "4\n"
     ]
    }
   ],
   "source": [
    "for i in range(10):\n",
    "    if i==5:\n",
    "        break\n",
    "    print(i)"
   ]
  },
  {
   "cell_type": "code",
   "execution_count": 19,
   "id": "d72b03c1-cabc-4686-b318-1494e3107485",
   "metadata": {},
   "outputs": [
    {
     "name": "stdout",
     "output_type": "stream",
     "text": [
      "0 1 2 3 4 6 7 8 9 "
     ]
    }
   ],
   "source": [
    "for i in range(10):\n",
    "    if i==5:\n",
    "        continue\n",
    "    print(i, end=\" \")"
   ]
  },
  {
   "cell_type": "code",
   "execution_count": 21,
   "id": "83c6c64b-8ea1-4416-8600-535999467fb8",
   "metadata": {},
   "outputs": [
    {
     "name": "stdout",
     "output_type": "stream",
     "text": [
      "Hello world.\n"
     ]
    }
   ],
   "source": [
    "a= \"Hello world. I am python.\"\n",
    "for i in a:\n",
    "    if i !=\".\":\n",
    "        print(i,end=\"\")\n",
    "    else:\n",
    "        print(\".\")\n",
    "        break"
   ]
  },
  {
   "cell_type": "code",
   "execution_count": 23,
   "id": "db9bb1e3-f8da-40e5-8a9a-9cf2577fd22e",
   "metadata": {},
   "outputs": [
    {
     "name": "stdout",
     "output_type": "stream",
     "text": [
      "10 9 8 7 6 5 4 3 2 "
     ]
    }
   ],
   "source": [
    "for i in range(10,1,-1):\n",
    "    print(i, end=\" \")"
   ]
  },
  {
   "cell_type": "code",
   "execution_count": 25,
   "id": "b53c3a79-4db3-4e03-bf3d-51b91f968b6b",
   "metadata": {},
   "outputs": [],
   "source": [
    "# # while loop\n",
    "# while <condition>:\n",
    "#     <operation>\n",
    "\n"
   ]
  },
  {
   "cell_type": "code",
   "execution_count": 27,
   "id": "ebcc3371-71c5-4ae4-86a1-587ceb938529",
   "metadata": {},
   "outputs": [
    {
     "name": "stdout",
     "output_type": "stream",
     "text": [
      "Hello World\n",
      "Hello World\n",
      "Hello World\n",
      "Hello World\n",
      "Hello World\n",
      "Hello World\n"
     ]
    }
   ],
   "source": [
    "i= 0\n",
    "while i <=5:\n",
    "    print(\"Hello World\")\n",
    "    i=i+1\n",
    "    "
   ]
  },
  {
   "cell_type": "code",
   "execution_count": 5,
   "id": "714b1bc8-1af6-4fa9-bd87-34cbe7a85ac6",
   "metadata": {},
   "outputs": [
    {
     "name": "stdin",
     "output_type": "stream",
     "text": [
      "Enter a= 5\n"
     ]
    },
    {
     "name": "stdout",
     "output_type": "stream",
     "text": [
      "5 * 1 = 5\n",
      "5 * 2 = 10\n",
      "5 * 3 = 15\n",
      "5 * 4 = 20\n",
      "5 * 5 = 25\n",
      "5 * 6 = 30\n",
      "5 * 7 = 35\n",
      "5 * 8 = 40\n",
      "5 * 9 = 45\n",
      "5 * 10 = 50\n"
     ]
    }
   ],
   "source": [
    "i= 1\n",
    "a=int(input(\"Enter a=\"))\n",
    "while i<=10:\n",
    "    print(a,\"*\",i,\"=\",a*i)\n",
    "    i=i+1"
   ]
  },
  {
   "cell_type": "code",
   "execution_count": 31,
   "id": "c0c76de7-37c7-4c0c-bf93-3829f38c97c2",
   "metadata": {},
   "outputs": [
    {
     "name": "stdin",
     "output_type": "stream",
     "text": [
      "Enter n= 3\n",
      "Enter name= Ram\n",
      "Enter phone= 9863542321\n",
      "Enter name= Shyam\n",
      "Enter phone= 9845632145\n",
      "Enter name= Hari\n",
      "Enter phone= 9874563211\n"
     ]
    }
   ],
   "source": [
    "i=0\n",
    "s=\"\"\n",
    "n=int(input(\"Enter n=\"))\n",
    "while i<n:\n",
    "    name = input(\"Enter name=\")\n",
    "    phone =input(\"Enter phone=\")\n",
    "    s=s+name+\"--\"+phone+\"\\n\"\n",
    "    i=i+1\n",
    "    "
   ]
  },
  {
   "cell_type": "code",
   "execution_count": 35,
   "id": "6be4872d-3da7-4fb1-9872-13ce57a8b5bb",
   "metadata": {},
   "outputs": [
    {
     "name": "stdin",
     "output_type": "stream",
     "text": [
      "Enter n= 5\n"
     ]
    },
    {
     "name": "stdout",
     "output_type": "stream",
     "text": [
      "s= 120\n"
     ]
    }
   ],
   "source": [
    "i= 1\n",
    "s=1\n",
    "n=int(input(\"Enter n=\"))\n",
    "while i<=n:\n",
    "    s=s*i\n",
    "    i=i+1\n",
    "print(\"s=\",s)"
   ]
  },
  {
   "cell_type": "code",
   "execution_count": 43,
   "id": "00646c69-cc6e-4064-82a1-74b2d60cabee",
   "metadata": {},
   "outputs": [
    {
     "name": "stdout",
     "output_type": "stream",
     "text": [
      "0 1 2 3 4 "
     ]
    }
   ],
   "source": [
    "i=0\n",
    "while i<=10:\n",
    "    if i==5:\n",
    "        break\n",
    "    print(i,end=\" \")\n",
    "    i=i+1\n"
   ]
  },
  {
   "cell_type": "code",
   "execution_count": 45,
   "id": "6bc855a3-7e4a-4753-86bb-f941a5053629",
   "metadata": {},
   "outputs": [
    {
     "name": "stdout",
     "output_type": "stream",
     "text": [
      "0 1 2 3 4 6 7 8 9 10 "
     ]
    }
   ],
   "source": [
    "i=0\n",
    "while i<=10:\n",
    "    if i==5:\n",
    "        i=i+1\n",
    "        continue\n",
    "    print(i,end=\" \")\n",
    "    i=i+1\n",
    "    \n"
   ]
  },
  {
   "cell_type": "code",
   "execution_count": 47,
   "id": "35609302-f8d5-4005-8670-b3bd34e13705",
   "metadata": {},
   "outputs": [],
   "source": [
    "# nested loop"
   ]
  },
  {
   "cell_type": "code",
   "execution_count": 53,
   "id": "e55e0014-62ad-4f42-aad6-451ebf30789c",
   "metadata": {},
   "outputs": [
    {
     "name": "stdout",
     "output_type": "stream",
     "text": [
      "0 0 0\n",
      "0 0 1\n",
      "0 0 2\n",
      "0 1 0\n",
      "0 1 1\n",
      "0 1 2\n",
      "0 2 0\n",
      "0 2 1\n",
      "0 2 2\n",
      "1 0 0\n",
      "1 0 1\n",
      "1 0 2\n",
      "1 1 0\n",
      "1 1 1\n",
      "1 1 2\n",
      "1 2 0\n",
      "1 2 1\n",
      "1 2 2\n",
      "2 0 0\n",
      "2 0 1\n",
      "2 0 2\n",
      "2 1 0\n",
      "2 1 1\n",
      "2 1 2\n",
      "2 2 0\n",
      "2 2 1\n",
      "2 2 2\n"
     ]
    }
   ],
   "source": [
    "for i in range(3):\n",
    "    for j in range(3):\n",
    "        for k in range(3):\n",
    "            print(i,j,k)\n",
    "    "
   ]
  },
  {
   "cell_type": "code",
   "execution_count": 1,
   "id": "6b6d768d-9153-4fb7-9752-a4564f3e4450",
   "metadata": {},
   "outputs": [],
   "source": [
    "# WAP to detect if the given no is prime or composite\n",
    "# use for else loop"
   ]
  },
  {
   "cell_type": "code",
   "execution_count": null,
   "id": "dcf9c98b-7227-4bd1-8fe0-99818f0e2e99",
   "metadata": {},
   "outputs": [],
   "source": [
    "for i in range(1,20):\n",
    "    if i\n",
    "    "
   ]
  }
 ],
 "metadata": {
  "kernelspec": {
   "display_name": "Python [conda env:base] *",
   "language": "python",
   "name": "conda-base-py"
  },
  "language_info": {
   "codemirror_mode": {
    "name": "ipython",
    "version": 3
   },
   "file_extension": ".py",
   "mimetype": "text/x-python",
   "name": "python",
   "nbconvert_exporter": "python",
   "pygments_lexer": "ipython3",
   "version": "3.12.7"
  }
 },
 "nbformat": 4,
 "nbformat_minor": 5
}
