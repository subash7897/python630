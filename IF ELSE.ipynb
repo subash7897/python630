{
 "cells": [
  {
   "cell_type": "code",
   "execution_count": 1,
   "id": "9c92742b-dd89-4164-8593-7764379395ba",
   "metadata": {},
   "outputs": [],
   "source": [
    "# <  >  <=  >=   ==  !="
   ]
  },
  {
   "cell_type": "code",
   "execution_count": 15,
   "id": "1fbe06d8-3646-43b7-85e4-4d796f4ec8cf",
   "metadata": {},
   "outputs": [
    {
     "name": "stdout",
     "output_type": "stream",
     "text": [
      "False\n",
      "True\n",
      "True\n",
      "False\n",
      "True\n",
      "False\n"
     ]
    }
   ],
   "source": [
    "a=10\n",
    "print(a<5)\n",
    "print(a>5)\n",
    "print(a>=5)\n",
    "print(a<=5)\n",
    "print(a==10)\n",
    "print(a!=10)"
   ]
  },
  {
   "cell_type": "code",
   "execution_count": null,
   "id": "f8f2e5b6-9070-407e-b297-b690ac00c632",
   "metadata": {},
   "outputs": [],
   "source": []
  }
 ],
 "metadata": {
  "kernelspec": {
   "display_name": "Python [conda env:base] *",
   "language": "python",
   "name": "conda-base-py"
  },
  "language_info": {
   "codemirror_mode": {
    "name": "ipython",
    "version": 3
   },
   "file_extension": ".py",
   "mimetype": "text/x-python",
   "name": "python",
   "nbconvert_exporter": "python",
   "pygments_lexer": "ipython3",
   "version": "3.12.7"
  }
 },
 "nbformat": 4,
 "nbformat_minor": 5
}
