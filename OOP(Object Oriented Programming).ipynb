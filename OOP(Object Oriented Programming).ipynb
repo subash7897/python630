{
 "cells": [
  {
   "cell_type": "code",
   "execution_count": 1,
   "id": "0e979235-3b16-415f-9d0a-c190b8efebcb",
   "metadata": {},
   "outputs": [],
   "source": [
    "# class<class_name>:     #defining class\n",
    "# <methods>       #Behavoiur of the class\n",
    "# obj=<class_name>()   #object"
   ]
  },
  {
   "cell_type": "code",
   "execution_count": 3,
   "id": "6268cde7-be1f-450b-99a5-c181071305ff",
   "metadata": {},
   "outputs": [
    {
     "name": "stdout",
     "output_type": "stream",
     "text": [
      "Hello World\n"
     ]
    }
   ],
   "source": [
    "class Hello:                     #Class\n",
    "    def hello(self):             #method\n",
    "        print(\"Hello World\")\n",
    "obj= Hello()                     #object\n",
    "obj.hello()                      #calling method"
   ]
  },
  {
   "cell_type": "code",
   "execution_count": 5,
   "id": "f3c3c2b4-bd4e-414b-8e10-3482d00f4cb3",
   "metadata": {},
   "outputs": [
    {
     "name": "stdout",
     "output_type": "stream",
     "text": [
      "Hello World\n"
     ]
    }
   ],
   "source": [
    "class Hello:                  #class\n",
    "    @staticmethod\n",
    "    def hello():             #method\n",
    "        print(\"Hello World\")\n",
    "obj= Hello()                     #object\n",
    "obj.hello()                      #calling method\n"
   ]
  },
  {
   "cell_type": "code",
   "execution_count": 7,
   "id": "f9bd123e-c240-48fa-8727-03932b899938",
   "metadata": {},
   "outputs": [
    {
     "name": "stdout",
     "output_type": "stream",
     "text": [
      "50\n"
     ]
    }
   ],
   "source": [
    "class Area:\n",
    "    def area(self,l,b):\n",
    "        a=l*b\n",
    "        print(a)\n",
    "obj= Area()\n",
    "obj.area(10,5)"
   ]
  },
  {
   "cell_type": "code",
   "execution_count": 9,
   "id": "2d79f48c-7214-4334-9728-03c126d6669b",
   "metadata": {},
   "outputs": [
    {
     "name": "stdout",
     "output_type": "stream",
     "text": [
      "50\n"
     ]
    }
   ],
   "source": [
    "class Area:\n",
    "    @staticmethod\n",
    "    def area(l,b):\n",
    "        a=l*b\n",
    "        print(a)\n",
    "obj=Area()\n",
    "obj.area(10,5)"
   ]
  },
  {
   "cell_type": "code",
   "execution_count": 11,
   "id": "797cdf19-c201-4b96-9409-ff09d446a894",
   "metadata": {},
   "outputs": [],
   "source": [
    "# __init__     () #initilize method\n"
   ]
  },
  {
   "cell_type": "code",
   "execution_count": 13,
   "id": "3eb04c33-d99a-4316-a389-1c919ce6b254",
   "metadata": {},
   "outputs": [
    {
     "name": "stdout",
     "output_type": "stream",
     "text": [
      "50\n"
     ]
    }
   ],
   "source": [
    "class Area:\n",
    "    def __init__(self,l,b):\n",
    "        self.length=l\n",
    "        self.breadth=b\n",
    "    def area(self):\n",
    "        a=self.length*self.breadth\n",
    "        print(a)\n",
    "\n",
    "obj= Area(10,5)\n",
    "obj.area()"
   ]
  },
  {
   "cell_type": "code",
   "execution_count": 21,
   "id": "3d018615-e042-4365-aee4-e3ecf6323508",
   "metadata": {},
   "outputs": [
    {
     "name": "stdout",
     "output_type": "stream",
     "text": [
      "50\n",
      "100\n"
     ]
    }
   ],
   "source": [
    "class Cal:\n",
    "    def __init__(self,l,b,h):\n",
    "        self.length=l\n",
    "        self.breadth=b\n",
    "        self.height=h\n",
    "    def area(self):\n",
    "        a=self.length*self.breadth\n",
    "        print(a)\n",
    "    def volume(self):\n",
    "        v=self.length *self.breadth*self.height\n",
    "        print(v)\n",
    "\n",
    "obj= Cal(10,5,2)\n",
    "obj.area()\n",
    "obj.volume()"
   ]
  },
  {
   "cell_type": "code",
   "execution_count": 23,
   "id": "e5a3bbb5-03ea-47d5-85dc-32d7718c9fe1",
   "metadata": {},
   "outputs": [
    {
     "name": "stdout",
     "output_type": "stream",
     "text": [
      "50\n",
      "100\n"
     ]
    }
   ],
   "source": [
    "class Cal:\n",
    "    def __init__(self,l,b):\n",
    "        self.length=l\n",
    "        self.breadth=b\n",
    "    def area(self):\n",
    "        a=self.length*self.breadth\n",
    "        print(a)\n",
    "    def volume(self,h):\n",
    "        v=self.length *self.breadth*h\n",
    "        print(v)\n",
    "\n",
    "obj= Cal(10,5)\n",
    "obj.area()\n",
    "obj.volume(2)"
   ]
  },
  {
   "cell_type": "code",
   "execution_count": 27,
   "id": "72979340-3d8d-4515-a213-6905a829d068",
   "metadata": {},
   "outputs": [
    {
     "name": "stdout",
     "output_type": "stream",
     "text": [
      "50\n",
      "45\n"
     ]
    }
   ],
   "source": [
    "class Area:\n",
    "    def __init__(self,l,b):\n",
    "        self.l=l\n",
    "        self.b=b\n",
    "\n",
    "    def area(self):\n",
    "        a=self.l*self.b\n",
    "        print(a)\n",
    "obj=Area(10,5)\n",
    "obj1=Area(15,3)\n",
    "obj.area()\n",
    "obj1.area()"
   ]
  },
  {
   "cell_type": "code",
   "execution_count": 29,
   "id": "9819cb3a-02de-4201-a45c-41d91fdf1091",
   "metadata": {},
   "outputs": [
    {
     "name": "stdout",
     "output_type": "stream",
     "text": [
      "30\n",
      "900\n"
     ]
    }
   ],
   "source": [
    "class Area:\n",
    "    def __init__(self,l,b):\n",
    "        self.l=l\n",
    "        self.b=b\n",
    "\n",
    "    def area(self):\n",
    "        a=self.l*self.b\n",
    "        print(a)\n",
    "\n",
    "class Volume:\n",
    "    def __init__(self,l,b,h):\n",
    "        self.l=l\n",
    "        self.b=b\n",
    "        self.h=h\n",
    "    def volume(self):\n",
    "        v=self.l*self.b*self.h\n",
    "        print(v)\n",
    "\n",
    "obj_area=Area(10,3)\n",
    "obj_area.area()\n",
    "obj_volume=Volume(15,10,6)\n",
    "obj_volume.volume()"
   ]
  },
  {
   "cell_type": "code",
   "execution_count": 5,
   "id": "0ee01221-3392-4a4f-8405-89a04d0d1e97",
   "metadata": {},
   "outputs": [
    {
     "name": "stdout",
     "output_type": "stream",
     "text": [
      "Ram 34 Kathmandu\n",
      "Hello World I am Ram. I am from Kathmandu. I am 34\n",
      "Ram\n"
     ]
    }
   ],
   "source": [
    "class Data:\n",
    "    def __init__(self,name,age,add):\n",
    "        self.name=name\n",
    "        self._age=age\n",
    "        self.__add=add\n",
    "    def data(self):\n",
    "        print(self.name,self._age,self.__add)\n",
    "    def my_add(self):\n",
    "        return self.__add\n",
    "\n",
    "class Info(Data):\n",
    "    def info(self):\n",
    "        a= f\"Hello World I am {self.name}. I am from {Data.my_add(self)}. I am {self._age}\"\n",
    "        print(a)\n",
    "obj= Info(\"Ram\",34,\"Kathmandu\")\n",
    "obj.data()\n",
    "obj.info()\n",
    "print(obj.name)"
   ]
  },
  {
   "cell_type": "code",
   "execution_count": 7,
   "id": "fb3e583f-97e2-478c-9767-c24a2003ad4d",
   "metadata": {},
   "outputs": [],
   "source": [
    "#polymorphism"
   ]
  },
  {
   "cell_type": "code",
   "execution_count": 11,
   "id": "380627eb-1ee6-4d7f-aa16-8d8dda749b6f",
   "metadata": {},
   "outputs": [
    {
     "name": "stdout",
     "output_type": "stream",
     "text": [
      "Parrot can fly\n",
      "Parrot can't swim\n",
      "Pengiun can't fly\n",
      "Pengiun can swim\n"
     ]
    }
   ],
   "source": [
    "class parrot:\n",
    "    def fly(self):\n",
    "        print(\"Parrot can fly\")\n",
    "    def swim(self):\n",
    "        print(\"Parrot can't swim\")\n",
    "\n",
    "class pengiun:\n",
    "    def fly(self):\n",
    "        print(\"Pengiun can't fly\")\n",
    "    def swim(Self):\n",
    "        print(\"Pengiun can swim\")\n",
    "\n",
    "#common interface\n",
    "\n",
    "def flying_test(bird):\n",
    "    bird.fly()\n",
    "    bird.swim()\n",
    "#instantiate object\n",
    "blu= parrot()\n",
    "peggy= pengiun()\n",
    "\n",
    "#passing the object\n",
    "\n",
    "flying_test(blu)        #object as an argument\n",
    "flying_test(peggy)      #objct as an argument\n",
    "     "
   ]
  },
  {
   "cell_type": "code",
   "execution_count": 13,
   "id": "bd6e17e7-dbfc-455f-aff1-3e0dccc4c3c6",
   "metadata": {},
   "outputs": [],
   "source": [
    "# __str__ method()\n"
   ]
  },
  {
   "cell_type": "code",
   "execution_count": 17,
   "id": "f06ca47e-1311-4f6e-ad97-3ec1527fb2e8",
   "metadata": {},
   "outputs": [
    {
     "name": "stdout",
     "output_type": "stream",
     "text": [
      "Ram\n",
      "<class '__main__.Info'>\n",
      "Ram\n"
     ]
    }
   ],
   "source": [
    "class Info:\n",
    "    def __init__(self):\n",
    "        self.name=\"Ram\"\n",
    "        self.age=34\n",
    "        self.add=\"Kathmandu\"\n",
    "    def __str__(self):             #returns only str value\n",
    "        return self.name\n",
    "\n",
    "obj= Info()\n",
    "print(obj)           #object\n",
    "print(type(obj))\n",
    "print(str(obj))      #string conversion\n",
    "# This method is used in operator overloading."
   ]
  },
  {
   "cell_type": "code",
   "execution_count": 21,
   "id": "79237e6e-0a7f-45e0-aa44-38b8bffd2d95",
   "metadata": {},
   "outputs": [
    {
     "name": "stdout",
     "output_type": "stream",
     "text": [
      "Hello World I am Ram\n"
     ]
    }
   ],
   "source": [
    "print(f\"Hello World I am {obj}\")\n",
    "# print(obj +\"shyam\")    operators can't used in objects."
   ]
  },
  {
   "cell_type": "code",
   "execution_count": 27,
   "id": "30dc5866-9ad2-4d82-b1f5-6a3924b3ee99",
   "metadata": {},
   "outputs": [
    {
     "name": "stdout",
     "output_type": "stream",
     "text": [
      "This is init method 3000\n",
      "This is init method 2000\n",
      "This is init method 1000\n",
      "This is add mthod 5000\n",
      "This is init method 5000\n",
      "This is add mthod 6000\n",
      "This is init method 6000\n",
      "This is str method 6000\n",
      "6000\n"
     ]
    }
   ],
   "source": [
    "class point:\n",
    "    def __init__(self,x=0):\n",
    "        self.x=x\n",
    "        print(\"This is init method\",self.x)\n",
    "    def __str__(self):\n",
    "        print(\"This is str method\",self.x)\n",
    "        return f\"{self.x}\"\n",
    "\n",
    "    def __add__(self,other):\n",
    "        x=self.x + other.x\n",
    "        print(\"This is add mthod\",x)\n",
    "        return point(x)\n",
    "\n",
    "P1=point(3000)\n",
    "P2=point(2000)\n",
    "P3=point(1000)\n",
    "print(P1+P2+P3)\n",
    "\n",
    "\n"
   ]
  },
  {
   "cell_type": "code",
   "execution_count": null,
   "id": "41f4f54b-dbfe-45a7-9ae9-d95cf07dfe9d",
   "metadata": {},
   "outputs": [],
   "source": []
  }
 ],
 "metadata": {
  "kernelspec": {
   "display_name": "Python [conda env:base] *",
   "language": "python",
   "name": "conda-base-py"
  },
  "language_info": {
   "codemirror_mode": {
    "name": "ipython",
    "version": 3
   },
   "file_extension": ".py",
   "mimetype": "text/x-python",
   "name": "python",
   "nbconvert_exporter": "python",
   "pygments_lexer": "ipython3",
   "version": "3.12.7"
  }
 },
 "nbformat": 4,
 "nbformat_minor": 5
}
