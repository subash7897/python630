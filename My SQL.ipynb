{
 "cells": [
  {
   "cell_type": "code",
   "execution_count": 1,
   "id": "ec2a1b9e-73a3-4b22-8e2a-def413ed5e76",
   "metadata": {},
   "outputs": [
    {
     "name": "stdout",
     "output_type": "stream",
     "text": [
      "Collecting mysql-connector\n",
      "  Downloading mysql-connector-2.2.9.tar.gz (11.9 MB)\n",
      "     ---------------------------------------- 0.0/11.9 MB ? eta -:--:--\n",
      "      --------------------------------------- 0.3/11.9 MB ? eta -:--:--\n",
      "     ----- ---------------------------------- 1.6/11.9 MB 6.5 MB/s eta 0:00:02\n",
      "     --------- ------------------------------ 2.9/11.9 MB 7.0 MB/s eta 0:00:02\n",
      "     --------------- ------------------------ 4.7/11.9 MB 7.7 MB/s eta 0:00:01\n",
      "     ------------------------ --------------- 7.3/11.9 MB 8.5 MB/s eta 0:00:01\n",
      "     ------------------------------- -------- 9.4/11.9 MB 9.0 MB/s eta 0:00:01\n",
      "     ---------------------------------------  11.8/11.9 MB 9.3 MB/s eta 0:00:01\n",
      "     ---------------------------------------- 11.9/11.9 MB 9.2 MB/s eta 0:00:00\n",
      "  Preparing metadata (setup.py): started\n",
      "  Preparing metadata (setup.py): finished with status 'done'\n",
      "Building wheels for collected packages: mysql-connector\n",
      "  Building wheel for mysql-connector (setup.py): started\n",
      "  Building wheel for mysql-connector (setup.py): finished with status 'done'\n",
      "  Created wheel for mysql-connector: filename=mysql_connector-2.2.9-cp312-cp312-win_amd64.whl size=247959 sha256=fe6a5250cc8b0e5eebdec6ce7f6990bfe6b426d9c71e4f8c6d11bbe90bbdbe0e\n",
      "  Stored in directory: c:\\users\\hp\\appdata\\local\\pip\\cache\\wheels\\03\\17\\fa\\d7604c72dd3dd6d3eb3d249abf36cc532c9a9b4354b8f1bc4f\n",
      "Successfully built mysql-connector\n",
      "Installing collected packages: mysql-connector\n",
      "Successfully installed mysql-connector-2.2.9\n"
     ]
    }
   ],
   "source": [
    "!pip install mysql-connector\n"
   ]
  },
  {
   "cell_type": "code",
   "execution_count": 9,
   "id": "d033d31a-a4bc-43a7-84f9-9e202cadc8d2",
   "metadata": {},
   "outputs": [],
   "source": [
    "import mysql.connector               #importing database\n",
    "database=mysql.connector.connect(\n",
    "    host=\"localhost\",\n",
    "    user=\"root\",\n",
    "    password=\"\",\n",
    "    database=\"python_630am\"\n",
    ")\n",
    "db=database.cursor()\n",
    "\n",
    "\n",
    "    \n",
    "\n"
   ]
  },
  {
   "cell_type": "code",
   "execution_count": 13,
   "id": "49052e27-71a0-4203-a486-829d9dfb394b",
   "metadata": {},
   "outputs": [
    {
     "name": "stdout",
     "output_type": "stream",
     "text": [
      "(1, 'Ram', 87, 70, 75, 71, 82, 385, 82.0, 'A')\n",
      "(2, 'Shyam', 87, 75, 66, 82, 90, 410, 85.0, 'A')\n"
     ]
    }
   ],
   "source": [
    "db.execute(\"select * from student\")\n",
    "result =db.fetchall()\n",
    "for x in result:\n",
    "    print(x)"
   ]
  },
  {
   "cell_type": "code",
   "execution_count": 15,
   "id": "4d6e9a63-30cf-4f3b-9e84-b2f938598ae9",
   "metadata": {},
   "outputs": [
    {
     "name": "stdout",
     "output_type": "stream",
     "text": [
      "1 record inserted\n"
     ]
    }
   ],
   "source": [
    "#insert data into tables\n",
    "sql='''INSERT INTO `student` (`sn`, `Name`, `physics`, `chemistry`, `math`, `english`, `nepali`, `total`, `per`, `grade`) \n",
    "VALUES ('10', 'Shriyanshi', '60', '72', '90', '85', '90', '410', '82', 'A');'''\n",
    "db.execute(sql)\n",
    "database.commit()\n",
    "print(db.rowcount, \"record inserted\")"
   ]
  },
  {
   "cell_type": "code",
   "execution_count": 17,
   "id": "731162e1-4e73-4a6a-bdd5-6022dd9d6a9b",
   "metadata": {},
   "outputs": [
    {
     "name": "stdout",
     "output_type": "stream",
     "text": [
      "1 record inserted\n"
     ]
    }
   ],
   "source": [
    "sql='''INSERT INTO `student` (`sn`, `Name`, `physics`, `chemistry`, `math`, `english`, `nepali`, `total`, `per`, `grade`) \n",
    "VALUES ('11', 'Daman', '63', '54', '65', '71', '62', '305', '60', 'B');'''\n",
    "db.execute(sql)\n",
    "database.commit()\n",
    "print(db.rowcount, \"record inserted\")"
   ]
  },
  {
   "cell_type": "code",
   "execution_count": 19,
   "id": "952a06b9-2803-4291-9d26-5b14baac103f",
   "metadata": {},
   "outputs": [
    {
     "name": "stdout",
     "output_type": "stream",
     "text": [
      "(1, 'Ram', 87, 70, 75, 71, 82, 385, 82.0, 'A')\n",
      "(2, 'Shyam', 87, 75, 66, 82, 90, 410, 85.0, 'A')\n",
      "(3, 'Hari', 75, 90, 78, 68, 54, 350, 75.0, 'B')\n",
      "(4, 'Gita', 58, 72, 68, 85, 63, 310, 67.0, 'B')\n",
      "(5, 'Mohan', 50, 63, 62, 54, 69, 290, 65.0, 'B')\n",
      "(6, 'Binod', 85, 90, 78, 92, 85, 450, 88.0, 'A')\n",
      "(7, 'Gajendra', 75, 71, 63, 55, 65, 330, 66.0, 'B')\n",
      "(8, 'Sharmila', 74, 85, 92, 72, 70, 410, 83.0, 'A')\n",
      "(9, 'Shriyansh', 60, 72, 82, 85, 90, 400, 80.0, 'A')\n",
      "(10, 'Shriyanshi', 60, 72, 90, 85, 90, 410, 82.0, 'A')\n",
      "(11, 'Daman', 63, 54, 65, 71, 62, 305, 60.0, 'B')\n"
     ]
    }
   ],
   "source": [
    "db.execute(\"select * from student\")\n",
    "result =db.fetchall()\n",
    "for x in result:\n",
    "    print(x)"
   ]
  },
  {
   "cell_type": "code",
   "execution_count": 13,
   "id": "b9a9ba77-2bde-4fd8-90c7-917a0e3b28cc",
   "metadata": {},
   "outputs": [],
   "source": [
    "import mysql.connector               #importing database\n",
    "database=mysql.connector.connect(\n",
    "    host=\"localhost\",\n",
    "    user=\"root\",\n",
    "    password=\"\",\n",
    "    database=\"python_630am\"\n",
    ")\n",
    "db=database.cursor()"
   ]
  },
  {
   "cell_type": "code",
   "execution_count": 19,
   "id": "b7f84463-94cb-4a25-8c0b-f8b96fc048de",
   "metadata": {},
   "outputs": [
    {
     "name": "stdout",
     "output_type": "stream",
     "text": [
      "0 record(s) affected\n"
     ]
    }
   ],
   "source": [
    "#update in sql \n",
    "sql=\"UPDATE student SET name='Rama' WHERE sn=2\"\n",
    "db.execute(sql)\n",
    "database.commit()\n",
    "print(db.rowcount,\"record(s) affected\")\n"
   ]
  },
  {
   "cell_type": "code",
   "execution_count": 21,
   "id": "97741178-fda2-45f6-859c-6e6ba28b0195",
   "metadata": {},
   "outputs": [
    {
     "name": "stdout",
     "output_type": "stream",
     "text": [
      "(1, 'Ram', 87, 70, 75, 71, 82, 385, 82.0, 'A')\n",
      "(2, 'Rama', 87, 75, 66, 82, 90, 410, 85.0, 'A')\n",
      "(6, 'Binod', 85, 90, 78, 92, 85, 450, 88.0, 'A')\n",
      "(8, 'Sharmila', 74, 85, 92, 72, 70, 410, 83.0, 'A')\n",
      "(9, 'Shriyansh', 60, 72, 82, 85, 90, 400, 80.0, 'A')\n",
      "(10, 'Shriyanshi', 60, 72, 90, 85, 90, 410, 82.0, 'A')\n"
     ]
    }
   ],
   "source": [
    "#select\n",
    "db.execute(\"SELECT *FROM  student WHERE grade='A'\")\n",
    "result=db.fetchall()\n",
    "for x in result:\n",
    "    print(x)"
   ]
  },
  {
   "cell_type": "code",
   "execution_count": 23,
   "id": "19ea220a-824d-456b-a208-7c65cd6d20a4",
   "metadata": {},
   "outputs": [
    {
     "name": "stdout",
     "output_type": "stream",
     "text": [
      "('Ram', 385, 'A')\n",
      "('Rama', 410, 'A')\n",
      "('Binod', 450, 'A')\n",
      "('Sharmila', 410, 'A')\n",
      "('Shriyansh', 400, 'A')\n",
      "('Shriyanshi', 410, 'A')\n"
     ]
    }
   ],
   "source": [
    "# select\n",
    "db.execute(\"SELECT name,total,grade FROM student WHERE grade='A'\")\n",
    "result=db.fetchall()\n",
    "for x in result:\n",
    "    print(x)"
   ]
  },
  {
   "cell_type": "code",
   "execution_count": 25,
   "id": "ce5e2587-3286-460c-b40f-4ed6df8f8bbf",
   "metadata": {},
   "outputs": [
    {
     "name": "stdout",
     "output_type": "stream",
     "text": [
      "(1, 'Ram', 87, 70, 75, 71, 82, 385, 82.0, 'A')\n",
      "(2, 'Rama', 87, 75, 66, 82, 90, 410, 85.0, 'A')\n",
      "(6, 'Binod', 85, 90, 78, 92, 85, 450, 88.0, 'A')\n"
     ]
    }
   ],
   "source": [
    "db.execute(\"SELECT * FROM student WHERE physics>80\")\n",
    "result=db.fetchall()\n",
    "for x in result:\n",
    "    print(x)"
   ]
  },
  {
   "cell_type": "code",
   "execution_count": 27,
   "id": "1ac9b0aa-b499-4c59-bea5-11720e08951b",
   "metadata": {},
   "outputs": [],
   "source": [
    "database.commit()"
   ]
  },
  {
   "cell_type": "code",
   "execution_count": 29,
   "id": "fba50441-a56b-490e-b3cd-6c7e17d8bf49",
   "metadata": {},
   "outputs": [
    {
     "name": "stdout",
     "output_type": "stream",
     "text": [
      "(1, 'Ram', 87, 70, 75, 71, 82, 385, 82.0, 'A')\n",
      "(2, 'Rama', 87, 75, 66, 82, 90, 410, 85.0, 'A')\n",
      "(3, 'Balaram', 75, 90, 78, 68, 54, 350, 75.0, 'B')\n"
     ]
    }
   ],
   "source": [
    "db.execute(\"SELECT * FROM student WHERE name LIKE '%ram%'\")\n",
    "result=db.fetchall()\n",
    "for x in result:\n",
    "    print(x)"
   ]
  },
  {
   "cell_type": "code",
   "execution_count": 31,
   "id": "0b8c0d78-b798-47a7-ad62-60aca3fa15a4",
   "metadata": {},
   "outputs": [
    {
     "name": "stdout",
     "output_type": "stream",
     "text": [
      "(1, 'Ram', 87, 70, 75, 71, 82, 385, 82.0, 'A')\n",
      "(2, 'Rama', 87, 75, 66, 82, 90, 410, 85.0, 'A')\n",
      "(6, 'Binod', 85, 90, 78, 92, 85, 450, 88.0, 'A')\n"
     ]
    }
   ],
   "source": [
    "db.execute(\"SELECT * FROM student WHERE physics >80 or chemistry=80\")\n",
    "result=db.fetchall()\n",
    "for x in result:\n",
    "    print(x)"
   ]
  },
  {
   "cell_type": "code",
   "execution_count": 35,
   "id": "fc4be23b-e964-469c-9294-edeed25d6cc1",
   "metadata": {},
   "outputs": [
    {
     "name": "stdout",
     "output_type": "stream",
     "text": [
      "(6, 'Binod', 85, 90, 78, 92, 85, 450, 88.0, 'A')\n",
      "(2, 'Rama', 87, 75, 66, 82, 90, 410, 85.0, 'A')\n",
      "(8, 'Sharmila', 74, 85, 92, 72, 70, 410, 83.0, 'A')\n"
     ]
    }
   ],
   "source": [
    "db.execute(\"SELECT *FROM student ORDER by total DESC LIMIT 3\")\n",
    "result= db.fetchall()\n",
    "for x in result:\n",
    "    print(x)"
   ]
  },
  {
   "cell_type": "code",
   "execution_count": 39,
   "id": "fcfa7d5a-7ce8-42bb-8c95-85e3963090a1",
   "metadata": {},
   "outputs": [
    {
     "name": "stdin",
     "output_type": "stream",
     "text": [
      "Enter name= Hari\n",
      "Enter sn= 3\n"
     ]
    },
    {
     "name": "stdout",
     "output_type": "stream",
     "text": [
      "1 record(s) affected\n"
     ]
    }
   ],
   "source": [
    "#update in sql\n",
    "name= input(\"Enter name=\")\n",
    "sn=int(input(\"Enter sn=\"))\n",
    "sql=f\"UPDATE student SET name='{name}' WHERE sn={sn}\"\n",
    "db.execute(sql)\n",
    "database.commit()\n",
    "print(db.rowcount,\"record(s) affected\")\n",
    "\n"
   ]
  },
  {
   "cell_type": "code",
   "execution_count": null,
   "id": "78f9378d-6932-4693-8e6b-b40e8ac323ae",
   "metadata": {},
   "outputs": [],
   "source": []
  }
 ],
 "metadata": {
  "kernelspec": {
   "display_name": "Python [conda env:base] *",
   "language": "python",
   "name": "conda-base-py"
  },
  "language_info": {
   "codemirror_mode": {
    "name": "ipython",
    "version": 3
   },
   "file_extension": ".py",
   "mimetype": "text/x-python",
   "name": "python",
   "nbconvert_exporter": "python",
   "pygments_lexer": "ipython3",
   "version": "3.12.7"
  }
 },
 "nbformat": 4,
 "nbformat_minor": 5
}
