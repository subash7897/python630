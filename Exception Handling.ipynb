{
 "cells": [
  {
   "cell_type": "code",
   "execution_count": 5,
   "id": "6f461576-5649-41a6-8381-db0a2dce435d",
   "metadata": {},
   "outputs": [],
   "source": [
    "# try:\n",
    "#     <operation>\n",
    "# except:\n",
    "#     <operation>"
   ]
  },
  {
   "cell_type": "code",
   "execution_count": 7,
   "id": "27f7e0fe-5df1-4391-9a24-25b7b9ddbf28",
   "metadata": {},
   "outputs": [
    {
     "name": "stdin",
     "output_type": "stream",
     "text": [
      "Enter a= 10\n",
      "Enter b= abh\n"
     ]
    },
    {
     "name": "stdout",
     "output_type": "stream",
     "text": [
      "There is some error\n"
     ]
    }
   ],
   "source": [
    "try:\n",
    "    a=int(input(\"Enter a=\"))\n",
    "    b=int(input(\"Enter b=\"))\n",
    "    c=a/b\n",
    "    print(c)\n",
    "except:\n",
    "    print(\"There is some error\")\n",
    "    "
   ]
  },
  {
   "cell_type": "code",
   "execution_count": 9,
   "id": "b6f39c96-8c37-44ed-bed9-a285a4e85592",
   "metadata": {},
   "outputs": [
    {
     "name": "stdin",
     "output_type": "stream",
     "text": [
      "Enter a= 10\n",
      "Enter b= 0\n"
     ]
    },
    {
     "name": "stdout",
     "output_type": "stream",
     "text": [
      "The value of b can not be zero\n"
     ]
    }
   ],
   "source": [
    "try:\n",
    "    a=int(input(\"Enter a=\"))\n",
    "    b=int(input(\"Enter b=\"))\n",
    "    c=a/b\n",
    "    print(c)\n",
    "except ValueError:\n",
    "    print(\"you should enter ony int value\")\n",
    "except ZeroDivisionError:\n",
    "    print(\"The value of b can not be zero\")\n",
    "    "
   ]
  },
  {
   "cell_type": "code",
   "execution_count": null,
   "id": "cb9fabc0-6d43-481b-972f-121c7e24726c",
   "metadata": {},
   "outputs": [],
   "source": []
  },
  {
   "cell_type": "code",
   "execution_count": 21,
   "id": "e932ea6f-f2db-4420-b582-9f8aa3c43e80",
   "metadata": {},
   "outputs": [
    {
     "name": "stdin",
     "output_type": "stream",
     "text": [
      "Enter username= admin\n",
      "Enter password= admin\n"
     ]
    },
    {
     "name": "stdout",
     "output_type": "stream",
     "text": [
      "you are logedin\n"
     ]
    }
   ],
   "source": [
    "username= \"admin\"\n",
    "password= \"admin\"\n",
    "try:\n",
    "    user=input(\"Enter username=\")\n",
    "    pas=input(\"Enter password=\")\n",
    "    if username==user and pas==password:\n",
    "        print(\"you are logedin\")\n",
    "    else:\n",
    "        raise ValueError\n",
    "    \n",
    "except:\n",
    "    print(\"username and password doesnot match\")\n",
    "    "
   ]
  },
  {
   "cell_type": "code",
   "execution_count": 29,
   "id": "4601c077-520a-441c-9800-8a67a0cceb98",
   "metadata": {},
   "outputs": [
    {
     "name": "stdin",
     "output_type": "stream",
     "text": [
      "Enter username= admin\n",
      "Enter password= adnjns\n"
     ]
    },
    {
     "name": "stdout",
     "output_type": "stream",
     "text": [
      "username and password doesnot match\n"
     ]
    },
    {
     "name": "stdin",
     "output_type": "stream",
     "text": [
      "Enter username= admin\n",
      "Enter password= admin\n"
     ]
    },
    {
     "name": "stdout",
     "output_type": "stream",
     "text": [
      "you are logedin in2 attempt\n"
     ]
    }
   ],
   "source": [
    "username= \"admin\"\n",
    "password= \"admin\"\n",
    "c=1\n",
    "def login():\n",
    "    global c\n",
    "    try:\n",
    "        user=input(\"Enter username=\")\n",
    "        pas=input(\"Enter password=\")\n",
    "        if username==user and pas==password:\n",
    "            print(f\"you are logedin in{c} attempt\")\n",
    "        else:\n",
    "            raise ValueError\n",
    "    \n",
    "    except:\n",
    "        print(\"username and password doesnot match\")\n",
    "        c=c+1\n",
    "        login()\n",
    "\n",
    "login()\n",
    "    "
   ]
  },
  {
   "cell_type": "code",
   "execution_count": 31,
   "id": "ec4468c2-f91d-4a68-aff9-642bd66f322f",
   "metadata": {},
   "outputs": [
    {
     "name": "stdin",
     "output_type": "stream",
     "text": [
      "Enter a= 10\n",
      "Enter b= 2\n"
     ]
    },
    {
     "name": "stdout",
     "output_type": "stream",
     "text": [
      "5.0\n"
     ]
    }
   ],
   "source": [
    "#else block is error free block. so make sure there should not be any error in else block.\n",
    "try:\n",
    "    a=int(input(\"Enter a=\"))\n",
    "    b=int(input(\"Enter b=\"))\n",
    "    c=a/b\n",
    "    \n",
    "except:\n",
    "    print(\"There is some error\")\n",
    "else:\n",
    "    print(c)\n",
    "    "
   ]
  },
  {
   "cell_type": "code",
   "execution_count": 33,
   "id": "36beadee-7988-471b-beab-03f0fe8b7f89",
   "metadata": {},
   "outputs": [
    {
     "name": "stdout",
     "output_type": "stream",
     "text": [
      "Name,Age,Address\n",
      "\n",
      "Aayush,23,Katmandu\n",
      "\n",
      "Shyam,33,Patan\n",
      "\n",
      "\n"
     ]
    }
   ],
   "source": [
    "try:\n",
    "    file=open(\"data.csv\",'r')\n",
    "    \n",
    "except:\n",
    "    print(\"There is no such file\")\n",
    "else:\n",
    "    print(file.read())\n",
    "    file.close()"
   ]
  },
  {
   "cell_type": "code",
   "execution_count": 35,
   "id": "27c6e119-8ae5-4761-bf46-908fe0b42155",
   "metadata": {},
   "outputs": [],
   "source": [
    "# assert"
   ]
  },
  {
   "cell_type": "code",
   "execution_count": 41,
   "id": "d898ed3c-d4a7-49d6-8b44-82e08996c50f",
   "metadata": {},
   "outputs": [
    {
     "name": "stdin",
     "output_type": "stream",
     "text": [
      "Enter age= 21\n"
     ]
    },
    {
     "name": "stdout",
     "output_type": "stream",
     "text": [
      "Welcome\n"
     ]
    }
   ],
   "source": [
    "age=int(input(\"Enter age=\"))\n",
    "assert age > 20\n",
    "print(\"Welcome\")"
   ]
  },
  {
   "cell_type": "code",
   "execution_count": 45,
   "id": "5134d1bb-0379-4526-9b14-a7b0b9007414",
   "metadata": {},
   "outputs": [
    {
     "name": "stdin",
     "output_type": "stream",
     "text": [
      "Enter age= 14\n"
     ]
    },
    {
     "name": "stdout",
     "output_type": "stream",
     "text": [
      "you are under age!\n"
     ]
    }
   ],
   "source": [
    "age=int(input(\"Enter age=\"))\n",
    "try:\n",
    "    assert age > 20\n",
    "    \n",
    "except:\n",
    "    print(\"you are under age!\")\n",
    "else:\n",
    "    print(\"Welcome\")\n"
   ]
  },
  {
   "cell_type": "code",
   "execution_count": 49,
   "id": "487cd15c-64b3-49d5-8b22-7af54877943d",
   "metadata": {},
   "outputs": [
    {
     "name": "stdin",
     "output_type": "stream",
     "text": [
      "Enter 1 for ntc no and 2 for ncell no = 2\n",
      "Enter Sn= 2\n"
     ]
    },
    {
     "name": "stdout",
     "output_type": "stream",
     "text": [
      "The person doesnot have the no\n"
     ]
    }
   ],
   "source": [
    "d = {1:{'name':'Ram','ntc':9845224670,'ncell':9806812478},\n",
    "     2:{'name':'Rama','ntc':9845269874}}\n",
    "try:\n",
    "    x= int(input(\"Enter 1 for ntc no and 2 for ncell no =\"))\n",
    "    i= int(input(\"Enter Sn=\"))\n",
    "    if x==1:\n",
    "        ntc_no=d[i]['ntc']\n",
    "        print(ntc_no)\n",
    "    else:\n",
    "        ncell_no=d[i]['ncell']\n",
    "        print(ncell_no)\n",
    "except:\n",
    "    print(\"The person doesnot have the no\")"
   ]
  },
  {
   "cell_type": "code",
   "execution_count": null,
   "id": "01d63554-15b2-4bdd-83e5-ad35a102b174",
   "metadata": {},
   "outputs": [],
   "source": []
  }
 ],
 "metadata": {
  "kernelspec": {
   "display_name": "Python [conda env:base] *",
   "language": "python",
   "name": "conda-base-py"
  },
  "language_info": {
   "codemirror_mode": {
    "name": "ipython",
    "version": 3
   },
   "file_extension": ".py",
   "mimetype": "text/x-python",
   "name": "python",
   "nbconvert_exporter": "python",
   "pygments_lexer": "ipython3",
   "version": "3.12.7"
  }
 },
 "nbformat": 4,
 "nbformat_minor": 5
}
