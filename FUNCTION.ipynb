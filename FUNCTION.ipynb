{
 "cells": [
  {
   "cell_type": "code",
   "execution_count": 1,
   "id": "b47990b1-aa6d-4499-a698-ddf5546805b9",
   "metadata": {},
   "outputs": [],
   "source": [
    "# return type function"
   ]
  },
  {
   "cell_type": "code",
   "execution_count": 3,
   "id": "c072b169-8fa3-4477-a87e-8aa01d3ae1b3",
   "metadata": {},
   "outputs": [
    {
     "name": "stdout",
     "output_type": "stream",
     "text": [
      "Hello World\n"
     ]
    }
   ],
   "source": [
    "def hello():\n",
    "    x=\"Hello World\"\n",
    "    return x\n",
    "\n",
    "print(hello())"
   ]
  },
  {
   "cell_type": "code",
   "execution_count": 5,
   "id": "3e136de4-da13-4d49-8a3a-cf5421cc5e6d",
   "metadata": {},
   "outputs": [
    {
     "name": "stdout",
     "output_type": "stream",
     "text": [
      "Hello WorldI am python\n"
     ]
    }
   ],
   "source": [
    "def hello():\n",
    "    x= \"Hello World\"\n",
    "    return x\n",
    "\n",
    "y=hello()\n",
    "info=y+\"I am python\"\n",
    "print(info)"
   ]
  },
  {
   "cell_type": "code",
   "execution_count": 7,
   "id": "da09faad-1bf2-4296-859e-c6dc60274e84",
   "metadata": {},
   "outputs": [
    {
     "name": "stdin",
     "output_type": "stream",
     "text": [
      "Enter l= 5\n",
      "Enter b= 8\n",
      "Enter h= 10\n"
     ]
    },
    {
     "name": "stdout",
     "output_type": "stream",
     "text": [
      "The volume= 400\n"
     ]
    }
   ],
   "source": [
    "# function with arguments and return type\n",
    "def area(l,b):\n",
    "    a=l*b\n",
    "    return a\n",
    "\n",
    "l=int(input(\"Enter l=\"))\n",
    "b=int(input(\"Enter b=\"))\n",
    "h=int(input(\"Enter h=\"))\n",
    "ar= area(l,b)\n",
    "v=ar*h\n",
    "print(\"The volume=\",v)\n"
   ]
  },
  {
   "cell_type": "code",
   "execution_count": 49,
   "id": "dd30d734-2fe5-450a-beb6-57936576c892",
   "metadata": {},
   "outputs": [],
   "source": [
    "#def info(name, age=34, add=\"Nepal\"\n"
   ]
  },
  {
   "cell_type": "code",
   "execution_count": 13,
   "id": "9f42154f-b44f-469f-a4db-73683107f665",
   "metadata": {},
   "outputs": [
    {
     "name": "stdin",
     "output_type": "stream",
     "text": [
      "Enter a= 5\n",
      "Enter b= 10\n",
      "Enter + or -or * or / *\n"
     ]
    },
    {
     "name": "stdout",
     "output_type": "stream",
     "text": [
      "50\n"
     ]
    }
   ],
   "source": [
    "def add(a,b):\n",
    "    return a+b\n",
    "def sub(a,b):\n",
    "    return a-b\n",
    "def mul(a,b):\n",
    "    return(a*b)\n",
    "def div(a,b):\n",
    "    return(a/b)\n",
    "def cal(a,b,o):\n",
    "    if o==\"+\":\n",
    "        print(add(a,b))\n",
    "    elif o==\"-\":\n",
    "        print(sub(a,b))\n",
    "    elif o==\"*\":\n",
    "        print(mul(a,b))\n",
    "    else:\n",
    "        print(div(a,b))       \n",
    "a=int(input(\"Enter a=\"))\n",
    "b=int(input(\"Enter b=\"))\n",
    "o=input(\"Enter + or -or * or /\")\n",
    "cal(a,b,o)\n"
   ]
  },
  {
   "cell_type": "code",
   "execution_count": 17,
   "id": "14891ec3-c53b-47b0-805c-35d40f49ea93",
   "metadata": {},
   "outputs": [],
   "source": [
    "# Recursive function- The function that calls itself."
   ]
  },
  {
   "cell_type": "code",
   "execution_count": 19,
   "id": "17efbcea-6cc0-44a3-af57-7f7ecaaf29d0",
   "metadata": {},
   "outputs": [
    {
     "name": "stdout",
     "output_type": "stream",
     "text": [
      "Hello World\n"
     ]
    },
    {
     "name": "stdin",
     "output_type": "stream",
     "text": [
      "Enter y for more print. y\n"
     ]
    },
    {
     "name": "stdout",
     "output_type": "stream",
     "text": [
      "Hello World\n"
     ]
    },
    {
     "name": "stdin",
     "output_type": "stream",
     "text": [
      "Enter y for more print. d\n"
     ]
    }
   ],
   "source": [
    "def hello():\n",
    "    print(\"Hello World\")\n",
    "    x=input(\"Enter y for more print.\")\n",
    "    if x=='y':\n",
    "        hello()\n",
    "\n",
    "hello()"
   ]
  },
  {
   "cell_type": "code",
   "execution_count": 23,
   "id": "5b2da0c4-9847-4046-a684-8cd718f58d76",
   "metadata": {},
   "outputs": [],
   "source": [
    "# Lambda function/anomolus function\n",
    "#lambda<argument>:<operation>\n"
   ]
  },
  {
   "cell_type": "code",
   "execution_count": 25,
   "id": "d3f473c5-1c4c-4941-9d34-f40088426653",
   "metadata": {},
   "outputs": [
    {
     "name": "stdout",
     "output_type": "stream",
     "text": [
      "4\n"
     ]
    }
   ],
   "source": [
    "x =lambda a:a*a\n",
    "print(x(2))"
   ]
  },
  {
   "cell_type": "code",
   "execution_count": 29,
   "id": "2d0de449-f63c-43cd-a171-0a24f6435b53",
   "metadata": {},
   "outputs": [
    {
     "name": "stdin",
     "output_type": "stream",
     "text": [
      "Enter l= 5\n",
      "Enter b= 6\n"
     ]
    },
    {
     "name": "stdout",
     "output_type": "stream",
     "text": [
      "30\n"
     ]
    }
   ],
   "source": [
    "x= lambda l,b:l*b\n",
    "l=int(input(\"Enter l=\"))\n",
    "b=int(input(\"Enter b=\"))\n",
    "print(x(l,b))"
   ]
  },
  {
   "cell_type": "code",
   "execution_count": 31,
   "id": "c588cfb6-871d-428a-bbcd-78d4d28964a1",
   "metadata": {},
   "outputs": [],
   "source": [
    "#filter() map()"
   ]
  },
  {
   "cell_type": "code",
   "execution_count": 33,
   "id": "e3f94f8f-9eae-4276-8c9a-9553bc242f2c",
   "metadata": {},
   "outputs": [],
   "source": [
    "#Filter()\n",
    "# List(filter(lambda<argument>:<expression>,List))"
   ]
  },
  {
   "cell_type": "code",
   "execution_count": 35,
   "id": "7d4add97-8831-457d-9510-d0d7f87153c1",
   "metadata": {},
   "outputs": [
    {
     "data": {
      "text/plain": [
       "[456, 258, 364, 852, 638, 452]"
      ]
     },
     "execution_count": 35,
     "metadata": {},
     "output_type": "execute_result"
    }
   ],
   "source": [
    "l=[123,456,741,258,364,852,451,638,452,363]\n",
    "list(filter(lambda x:x%2==0, l))"
   ]
  },
  {
   "cell_type": "code",
   "execution_count": 39,
   "id": "329d59ef-ef4e-4f30-aab7-6aa4c75f319b",
   "metadata": {},
   "outputs": [
    {
     "data": {
      "text/plain": [
       "['Apple', 'Ant']"
      ]
     },
     "execution_count": 39,
     "metadata": {},
     "output_type": "execute_result"
    }
   ],
   "source": [
    "l=[\"Apple\",\"Ant\", \"Ball\", \"Cat\", \"Dog\"]\n",
    "list(filter(lambda x:x[0]==\"A\", l))"
   ]
  },
  {
   "cell_type": "code",
   "execution_count": 41,
   "id": "5dca473b-c915-4d2b-8dc1-d31d0415e577",
   "metadata": {},
   "outputs": [],
   "source": [
    "#Map()\n",
    "# list(map(lambda<argument>:<operation>,list))\n",
    "#<expression>= true or false\n",
    "# <operation>= value return"
   ]
  },
  {
   "cell_type": "code",
   "execution_count": 43,
   "id": "211e1bd2-8473-41d4-ad51-976726b5fff1",
   "metadata": {},
   "outputs": [
    {
     "data": {
      "text/plain": [
       "[1, 4, 9, 16, 25, 36, 49, 64, 81, 100]"
      ]
     },
     "execution_count": 43,
     "metadata": {},
     "output_type": "execute_result"
    }
   ],
   "source": [
    "l=[1,2,3,4,5,6,7,8,9,10]\n",
    "list(map(lambda x:x**2,l))"
   ]
  },
  {
   "cell_type": "code",
   "execution_count": 45,
   "id": "53c44ff1-8bac-4a39-8b9c-7dd4a055bd89",
   "metadata": {},
   "outputs": [
    {
     "data": {
      "text/plain": [
       "['apple', 'ball', 'cat', 'dog']"
      ]
     },
     "execution_count": 45,
     "metadata": {},
     "output_type": "execute_result"
    }
   ],
   "source": [
    "a=[\"Apple\",\"Ball\",\"Cat\",\"Dog\"]\n",
    "list(map(lambda x:x.lower(),a))"
   ]
  },
  {
   "cell_type": "code",
   "execution_count": 47,
   "id": "7e5e7ca7-7e3f-4b9d-90dc-bc2076efaff0",
   "metadata": {},
   "outputs": [
    {
     "data": {
      "text/plain": [
       "['Ant', 'Cat', 'Dog']"
      ]
     },
     "execution_count": 47,
     "metadata": {},
     "output_type": "execute_result"
    }
   ],
   "source": [
    "l=[\"Apple\",\"Ant\", \"Ball\", \"Cat\", \"Dog\"]\n",
    "list(filter(lambda x:len(x)==3, l))"
   ]
  },
  {
   "cell_type": "code",
   "execution_count": null,
   "id": "e1fc328b-eafb-4137-9271-0156843a0d95",
   "metadata": {},
   "outputs": [],
   "source": []
  }
 ],
 "metadata": {
  "kernelspec": {
   "display_name": "Python [conda env:base] *",
   "language": "python",
   "name": "conda-base-py"
  },
  "language_info": {
   "codemirror_mode": {
    "name": "ipython",
    "version": 3
   },
   "file_extension": ".py",
   "mimetype": "text/x-python",
   "name": "python",
   "nbconvert_exporter": "python",
   "pygments_lexer": "ipython3",
   "version": "3.12.7"
  }
 },
 "nbformat": 4,
 "nbformat_minor": 5
}
