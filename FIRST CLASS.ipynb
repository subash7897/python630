{
 "cells": [
  {
   "cell_type": "code",
   "execution_count": 1,
   "id": "a6d101aa-0b91-4d63-b72b-4d99534ef501",
   "metadata": {},
   "outputs": [],
   "source": [
    "# I/O operation"
   ]
  },
  {
   "cell_type": "code",
   "execution_count": 3,
   "id": "c9505365-50cd-45f2-8877-bc35fe1785e8",
   "metadata": {},
   "outputs": [
    {
     "name": "stdin",
     "output_type": "stream",
     "text": [
      "Enter the value of a= Apple\n"
     ]
    },
    {
     "name": "stdout",
     "output_type": "stream",
     "text": [
      "Apple\n"
     ]
    }
   ],
   "source": [
    "a=input(\"Enter the value of a=\")\n",
    "print(a)"
   ]
  },
  {
   "cell_type": "code",
   "execution_count": 7,
   "id": "7b573b2c-bbc9-4555-a2a8-6006c3d7103e",
   "metadata": {},
   "outputs": [
    {
     "name": "stdin",
     "output_type": "stream",
     "text": [
      "Enter the value of a= 10\n",
      "Enter the value of b= 20\n"
     ]
    },
    {
     "name": "stdout",
     "output_type": "stream",
     "text": [
      "30\n"
     ]
    }
   ],
   "source": [
    "a=int(input(\"Enter the value of a=\"))\n",
    "b=int(input(\"Enter the value of b=\"))\n",
    "c=a+b\n",
    "print(c)\n"
   ]
  },
  {
   "cell_type": "code",
   "execution_count": 13,
   "id": "357a026a-d99d-4b01-9c1d-e7b13f10a25b",
   "metadata": {},
   "outputs": [
    {
     "name": "stdin",
     "output_type": "stream",
     "text": [
      "Enter p= 1000\n",
      "Enter t= 2.5\n",
      "Enter r= 1.5\n"
     ]
    },
    {
     "name": "stdout",
     "output_type": "stream",
     "text": [
      "The value of i= 37.5\n"
     ]
    }
   ],
   "source": [
    "p= int(input(\"Enter p=\"))\n",
    "t= float(input(\"Enter t=\"))\n",
    "r= float(input(\"Enter r=\"))\n",
    "\n",
    "i= p*t*r/100\n",
    "print(\"The value of i=\",i)"
   ]
  },
  {
   "cell_type": "code",
   "execution_count": 15,
   "id": "8c8d7edf-02e9-437e-a9a6-116150a63911",
   "metadata": {},
   "outputs": [
    {
     "name": "stdin",
     "output_type": "stream",
     "text": [
      "Enter the value of r= 12\n"
     ]
    },
    {
     "name": "stdout",
     "output_type": "stream",
     "text": [
      "The area of circle= 452.16\n"
     ]
    }
   ],
   "source": [
    "r= float(input(\"Enter the value of r=\"))\n",
    "pi= 3.14\n",
    "a= pi*r**2\n",
    "\n",
    "print(\"The area of circle=\",a)"
   ]
  },
  {
   "cell_type": "code",
   "execution_count": 17,
   "id": "0aaf6876-10d5-43c7-b1bb-063abab598df",
   "metadata": {},
   "outputs": [
    {
     "name": "stdin",
     "output_type": "stream",
     "text": [
      "Enter the value of l= 20\n",
      "Enter the value of b= 10\n",
      "Enter the value of h= 5\n"
     ]
    },
    {
     "name": "stdout",
     "output_type": "stream",
     "text": [
      "The volume of cuboid= 1000.0\n"
     ]
    }
   ],
   "source": [
    "l= float(input(\"Enter the value of l=\"))\n",
    "b= float(input(\"Enter the value of b=\"))\n",
    "h= float(input(\"Enter the value of h=\"))\n",
    "\n",
    "v= l*b*h\n",
    "print(\"The volume of cuboid=\",v)"
   ]
  },
  {
   "cell_type": "code",
   "execution_count": 21,
   "id": "7c1591d4-2624-44ec-a82d-ef0f81855712",
   "metadata": {},
   "outputs": [
    {
     "name": "stdin",
     "output_type": "stream",
     "text": [
      "Enter name= Ram\n",
      "Enter age= 30\n",
      "Enter add= kathamndu\n"
     ]
    },
    {
     "name": "stdout",
     "output_type": "stream",
     "text": [
      "Ram 30 kathamndu\n"
     ]
    }
   ],
   "source": [
    "name= input(\"Enter name=\")\n",
    "age= int(input(\"Enter age=\"))\n",
    "add= input(\"Enter add=\")\n",
    "\n",
    "print(name,age,add)"
   ]
  },
  {
   "cell_type": "code",
   "execution_count": 23,
   "id": "8eae984f-cbb7-40e4-872b-d60342320347",
   "metadata": {},
   "outputs": [
    {
     "name": "stdout",
     "output_type": "stream",
     "text": [
      "Hello world I am Ram I am from kathamndu I am 30\n"
     ]
    }
   ],
   "source": [
    "print(\"Hello world I am\",name,\"I am from\",add,\"I am\",age)"
   ]
  },
  {
   "cell_type": "code",
   "execution_count": 37,
   "id": "be23e99a-edcf-4417-b022-75ccc79e49fd",
   "metadata": {},
   "outputs": [
    {
     "name": "stdout",
     "output_type": "stream",
     "text": [
      "Hello World I am Ram I am 30 I am from kathamndu\n"
     ]
    }
   ],
   "source": [
    "info = \"Hello World I am \"+name + \" I am \"+ str(age) + \" I am from \"+add\n",
    "print(info)"
   ]
  },
  {
   "cell_type": "code",
   "execution_count": null,
   "id": "b4b12070-a186-46d0-bcaa-66ca0684123f",
   "metadata": {},
   "outputs": [
    {
     "name": "stdin",
     "output_type": "stream",
     "text": [
      "Enter the value of phy= 40\n",
      "Enter the value of che= 50\n",
      "Enter the value of boi= 70\n",
      "Enter the value of eng= 50\n",
      "Enter the value of nep= 60\n"
     ]
    }
   ],
   "source": [
    "#WAP to calculate total, per of +2 science student\n",
    "phy = int(input(\"Enter the value of phy=\"))\n",
    "che = int(input(\"Enter the value of che=\"))\n",
    "bio = int(input(\"Enter the value of boi=\"))\n",
    "eng = int(input(\"Enter the value of eng=\"))\n",
    "nep = int(input(\"Enter the value of nep=\"))\n",
    "\n",
    "Total=phy+che+bio+eng+nep\n",
    "per= toatal/5\n",
    "\n",
    "print(\"Total marks=\",Total)\n"
   ]
  },
  {
   "cell_type": "code",
   "execution_count": 3,
   "id": "c485b457-2d44-4544-9290-e93c41f824a6",
   "metadata": {},
   "outputs": [
    {
     "name": "stdin",
     "output_type": "stream",
     "text": [
      "Enter the mark of phy= 40\n",
      "Enter the mark of che= 60\n",
      "Enter the mark of bio= 70\n",
      "Enter the mark of eng= 50\n",
      "Enter the mark of nep= 60\n"
     ]
    },
    {
     "name": "stdout",
     "output_type": "stream",
     "text": [
      "Total Marks= 280\n",
      "percentage= 56.0\n"
     ]
    }
   ],
   "source": [
    "phy = int(input(\"Enter the mark of phy=\"))\n",
    "che = int(input(\"Enter the mark of che=\"))\n",
    "bio = int(input(\"Enter the mark of bio=\"))\n",
    "eng = int(input(\"Enter the mark of eng=\"))\n",
    "nep = int(input(\"Enter the mark of nep=\"))\n",
    "\n",
    "Total= phy+che+bio+eng+nep\n",
    "per =Total/5\n",
    "print(\"Total Marks=\",Total)\n",
    "print(\"percentage=\",per)"
   ]
  },
  {
   "cell_type": "code",
   "execution_count": null,
   "id": "16961771-10b9-42d5-95b7-4c48ee8ea726",
   "metadata": {},
   "outputs": [],
   "source": []
  }
 ],
 "metadata": {
  "kernelspec": {
   "display_name": "Python [conda env:base] *",
   "language": "python",
   "name": "conda-base-py"
  },
  "language_info": {
   "codemirror_mode": {
    "name": "ipython",
    "version": 3
   },
   "file_extension": ".py",
   "mimetype": "text/x-python",
   "name": "python",
   "nbconvert_exporter": "python",
   "pygments_lexer": "ipython3",
   "version": "3.12.7"
  }
 },
 "nbformat": 4,
 "nbformat_minor": 5
}
