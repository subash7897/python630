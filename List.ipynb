{
 "cells": [
  {
   "cell_type": "code",
   "execution_count": 1,
   "id": "6e76df41-2838-42e9-86e4-743fc6d8aed0",
   "metadata": {},
   "outputs": [],
   "source": [
    "# python collection\n",
    "# list\n",
    "# Tuple\n",
    "# collection\n",
    "# set"
   ]
  },
  {
   "cell_type": "code",
   "execution_count": null,
   "id": "fcab5f49-4b05-4f09-a308-0c135fb4af90",
   "metadata": {},
   "outputs": [],
   "source": [
    "# List\n",
    "# Indexing\n",
    "# ordered\n",
    "# multiple\n",
    "# mutable"
   ]
  },
  {
   "cell_type": "code",
   "execution_count": 3,
   "id": "1d00ac7c-2db9-46b1-ba05-7c355e68a46f",
   "metadata": {},
   "outputs": [
    {
     "name": "stdout",
     "output_type": "stream",
     "text": [
      "<class 'list'>\n",
      "<class 'list'>\n",
      "[1, 2, 3, 4, 5, 6, 7, 8, 9, 10]\n",
      "['Apple,Ball,cat,Dog']\n"
     ]
    }
   ],
   "source": [
    "a= [1,2,3,4,5,6,7,8,9,10]\n",
    "b= [\"Apple\",\"Ball\",\"cat\",\"Dog\"]\n",
    "print(type(a))\n",
    "print(type(b))\n",
    "print(a)\n",
    "print(b)"
   ]
  },
  {
   "cell_type": "code",
   "execution_count": 11,
   "id": "dc0a7b75-0d8a-404e-82e8-1227b7692e7d",
   "metadata": {},
   "outputs": [
    {
     "name": "stdout",
     "output_type": "stream",
     "text": [
      "10\n",
      "1\n"
     ]
    }
   ],
   "source": [
    "print(len(a))\n",
    "print(len(b))"
   ]
  },
  {
   "cell_type": "code",
   "execution_count": 13,
   "id": "fbc948f9-5716-4a65-9daa-14d79037498d",
   "metadata": {},
   "outputs": [
    {
     "name": "stdout",
     "output_type": "stream",
     "text": [
      "Apple\n",
      "Fish\n",
      "['Apple', 'Ball', 'cat', 'Dog', 'Egg']\n",
      "['Apple', 'cat', 'Egg']\n",
      "['Fish', 'Egg', 'Dog', 'cat', 'Ball', 'Apple']\n"
     ]
    }
   ],
   "source": [
    "a= [\"Apple\",\"Ball\",\"cat\",\"Dog\",\"Egg\",\"Fish\"]\n",
    "print(a[0])\n",
    "print(a[-1])\n",
    "print(a[0:5])\n",
    "print(a[0:6:2])\n",
    "print(a[::-1])"
   ]
  },
  {
   "cell_type": "code",
   "execution_count": 15,
   "id": "1d5999c5-524c-4bb0-968c-9cb9bebbb6aa",
   "metadata": {},
   "outputs": [
    {
     "name": "stdout",
     "output_type": "stream",
     "text": [
      "[1, 2, 3, 4, 5, 6, 7, 8, 9, 10]\n"
     ]
    }
   ],
   "source": [
    "a = [1,2,3,4,5]\n",
    "b = [6,7,8,9,10]\n",
    "c= a+b\n",
    "print(c)"
   ]
  },
  {
   "cell_type": "code",
   "execution_count": 17,
   "id": "37e9cfd9-635f-431e-8b34-3a59bfe47b18",
   "metadata": {},
   "outputs": [
    {
     "name": "stdout",
     "output_type": "stream",
     "text": [
      "[1, 2, 3, 4, 5, 1, 2, 3, 4, 5]\n"
     ]
    }
   ],
   "source": [
    "a = [1,2,3,4,5]\n",
    "print(a*2)"
   ]
  },
  {
   "cell_type": "code",
   "execution_count": 19,
   "id": "2cc3e616-c288-4e95-bfae-8411d54db94c",
   "metadata": {},
   "outputs": [],
   "source": [
    "# append() insert()  extend()"
   ]
  },
  {
   "cell_type": "code",
   "execution_count": 21,
   "id": "09dc6ed8-5d3b-40c2-b312-a5b86f08b177",
   "metadata": {},
   "outputs": [
    {
     "name": "stdout",
     "output_type": "stream",
     "text": [
      "['Apple', 'Ball', 'Cat']\n"
     ]
    }
   ],
   "source": [
    "a= []\n",
    "a.append(\"Apple\")\n",
    "a.append(\"Ball\")\n",
    "a.append(\"Cat\")\n",
    "print(a)"
   ]
  },
  {
   "cell_type": "code",
   "execution_count": 23,
   "id": "60e071a6-3bf9-4b40-bf5e-41dd94a86ed0",
   "metadata": {},
   "outputs": [
    {
     "name": "stdin",
     "output_type": "stream",
     "text": [
      "Enter n= 3\n",
      "Enter name= Ram\n",
      "Enter name= Shyam\n",
      "Enter name= hari\n"
     ]
    },
    {
     "name": "stdout",
     "output_type": "stream",
     "text": [
      "['Ram', 'Shyam', 'hari']\n"
     ]
    }
   ],
   "source": [
    "l=[]\n",
    "n= int(input(\"Enter n=\"))\n",
    "for i in range(n):\n",
    "    a=input(\"Enter name=\")\n",
    "    l.append(a)\n",
    "\n",
    "print(l)"
   ]
  },
  {
   "cell_type": "code",
   "execution_count": 27,
   "id": "6461f80d-6f9d-4d76-8163-7601ce9277e9",
   "metadata": {},
   "outputs": [
    {
     "name": "stdout",
     "output_type": "stream",
     "text": [
      "['Ram', 'Akash', 'Shyam', 'hari']\n"
     ]
    }
   ],
   "source": [
    "#insert\n",
    "a=['Ram', 'Shyam', 'hari']\n",
    "a.insert(1,\"Akash\")\n",
    "print(a)"
   ]
  },
  {
   "cell_type": "code",
   "execution_count": 29,
   "id": "856d3836-ce26-4ad6-be1e-aa9bbd040ef2",
   "metadata": {},
   "outputs": [
    {
     "name": "stdout",
     "output_type": "stream",
     "text": [
      "[1, 2, 3, 4, 5, 6, 7, 8, 9, 10]\n"
     ]
    }
   ],
   "source": [
    "a= [1,2,3,4,5]\n",
    "b= [6,7,8,9,10]\n",
    "a.extend(b)\n",
    "print(a)"
   ]
  },
  {
   "cell_type": "code",
   "execution_count": 31,
   "id": "ee2df0d7-2bfa-42d7-a560-5318b51ff736",
   "metadata": {},
   "outputs": [
    {
     "name": "stdout",
     "output_type": "stream",
     "text": [
      "[1, 2, 3, 4, 5, 6, 7, 8, 9, 10, 11, 12, 13]\n"
     ]
    }
   ],
   "source": [
    "a= [1,2,3,4,5]\n",
    "b= [6,7,8,9,10,]\n",
    "c= [11,12,13]\n",
    "a.extend(b+c)\n",
    "print(a)"
   ]
  },
  {
   "cell_type": "code",
   "execution_count": 35,
   "id": "2df07f56-8dcb-4563-afdf-252981e8474d",
   "metadata": {},
   "outputs": [
    {
     "name": "stdout",
     "output_type": "stream",
     "text": [
      "Ram\n",
      "Akash\n",
      "Shyam\n",
      "hari\n"
     ]
    }
   ],
   "source": [
    "#CRUD\n",
    "#Read\n",
    "a= ['Ram', 'Akash', 'Shyam', 'hari']\n",
    "for i in a:\n",
    "    print(i)"
   ]
  },
  {
   "cell_type": "code",
   "execution_count": 37,
   "id": "095c01ce-a0f8-4f1a-8139-f109fbe3c605",
   "metadata": {},
   "outputs": [
    {
     "name": "stdout",
     "output_type": "stream",
     "text": [
      "Ram\n",
      "Akash\n",
      "Shyam\n",
      "hari\n"
     ]
    }
   ],
   "source": [
    "#Read\n",
    "a= ['Ram', 'Akash', 'Shyam', 'hari']\n",
    "l= len(a)\n",
    "for i in range(l):\n",
    "    print(a[i])"
   ]
  },
  {
   "cell_type": "code",
   "execution_count": 41,
   "id": "b78f59a7-ec9a-485d-ad8b-07e687730c29",
   "metadata": {},
   "outputs": [
    {
     "name": "stdout",
     "output_type": "stream",
     "text": [
      "['Rama', 'Akash', 'Shyam', 'hari']\n"
     ]
    }
   ],
   "source": [
    "#update\n",
    "a=['Ram', 'Akash', 'Shyam', 'hari']\n",
    "a[0]= 'Rama'\n",
    "print(a)"
   ]
  },
  {
   "cell_type": "code",
   "execution_count": 43,
   "id": "00166540-a6fb-45da-9f5e-3d814582eadd",
   "metadata": {},
   "outputs": [
    {
     "name": "stdout",
     "output_type": "stream",
     "text": [
      "['Rama', 'shyam', 'Shyam', 'hari']\n"
     ]
    }
   ],
   "source": [
    "a=['Ram', 'Akash', 'Shyam', 'hari']\n",
    "a[0:2]= ['Rama','shyam']\n",
    "print(a)"
   ]
  },
  {
   "cell_type": "code",
   "execution_count": 47,
   "id": "95b6f60c-c75b-4f0c-b209-e46df25ae169",
   "metadata": {},
   "outputs": [
    {
     "data": {
      "text/plain": [
       "2"
      ]
     },
     "execution_count": 47,
     "metadata": {},
     "output_type": "execute_result"
    }
   ],
   "source": [
    "a=['Ram', 'Akash', 'Shyam', 'hari']\n",
    "a.index('Shyam')\n",
    "\n",
    "      "
   ]
  },
  {
   "cell_type": "code",
   "execution_count": 53,
   "id": "c3ce6780-763a-40a0-9e36-676ccdaca4d1",
   "metadata": {},
   "outputs": [
    {
     "name": "stdout",
     "output_type": "stream",
     "text": [
      "['Ram', 'Akash', 'Shyama', 'hari']\n"
     ]
    }
   ],
   "source": [
    "a=['Ram', 'Akash', 'Shyam', 'hari']\n",
    "i= a.index(\"Shyam\")\n",
    "a[i]= \"Shyama\"\n",
    "print(a)"
   ]
  },
  {
   "cell_type": "code",
   "execution_count": 1,
   "id": "05d5b870-febb-4dd2-b06d-e7b6ce092be3",
   "metadata": {},
   "outputs": [
    {
     "name": "stdout",
     "output_type": "stream",
     "text": [
      "['Bharat', 'Shyam', 'Hari', 'Sita', 'Gita']\n"
     ]
    }
   ],
   "source": [
    "a=[\"Ram\", \"Shyam\", \"Hari\", \"Sita\",\"Gita\"]\n",
    "i= a.index(\"Ram\")\n",
    "a[i]=\"Bharat\"\n",
    "print(a)"
   ]
  },
  {
   "cell_type": "code",
   "execution_count": 3,
   "id": "05ea307a-2b7c-4c4a-95f1-a27ae7b408c8",
   "metadata": {},
   "outputs": [
    {
     "name": "stdout",
     "output_type": "stream",
     "text": [
      "['Mango', 'Banana', 'Litchi', 'Potato', 'Tomato', 'onion', 'Chilli', 'Rice', 'Bread', 'flour']\n"
     ]
    }
   ],
   "source": [
    "a=[\"Mango\",\"Banana\",\"Litchi\"]\n",
    "b=[\"Potato\",\"Tomato\",\"onion\",\"Chilli\"]\n",
    "c=[\"Rice\",\"Bread\",\"flour\"]\n",
    "a.extend(b+c)\n",
    "print(a)"
   ]
  },
  {
   "cell_type": "code",
   "execution_count": 5,
   "id": "2c4a812d-637f-4e35-9a73-df9c56a53c6f",
   "metadata": {},
   "outputs": [
    {
     "name": "stdout",
     "output_type": "stream",
     "text": [
      "['Shyam', 'Hari', 'Sita,Gita']\n"
     ]
    }
   ],
   "source": [
    "# delete\n",
    "# del() remove() pop()\n",
    "a=['Ram','Shyam','Hari','Sita'',Gita']\n",
    "del a[0]\n",
    "print(a)"
   ]
  },
  {
   "cell_type": "code",
   "execution_count": 7,
   "id": "270f5c6b-fe8f-4274-84d9-cc096776241b",
   "metadata": {},
   "outputs": [
    {
     "name": "stdout",
     "output_type": "stream",
     "text": [
      "['Ram', 'Hari', 'Sita,Gita']\n"
     ]
    }
   ],
   "source": [
    "a=['Ram','Shyam','Hari','Sita'',Gita']\n",
    "a.remove(\"Shyam\")\n",
    "print(a)"
   ]
  },
  {
   "cell_type": "code",
   "execution_count": 11,
   "id": "ee8a0c91-8c49-4071-b8f4-bb2aa20cff68",
   "metadata": {},
   "outputs": [
    {
     "name": "stdout",
     "output_type": "stream",
     "text": [
      "['Hari', 'Sita,Gita']\n"
     ]
    }
   ],
   "source": [
    "a=['Ram','Shyam','Hari','Sita'',Gita']\n",
    "del a[0:2]\n",
    "print(a)"
   ]
  },
  {
   "cell_type": "code",
   "execution_count": 13,
   "id": "4b719e92-1ec4-4f1d-a293-2bbfe0b40a37",
   "metadata": {},
   "outputs": [
    {
     "name": "stdout",
     "output_type": "stream",
     "text": [
      "['Shyam', 'Hari', 'Sita,Gita']\n",
      "Ram\n"
     ]
    }
   ],
   "source": [
    "a=['Ram','Shyam','Hari','Sita'',Gita']\n",
    "b=a.pop(0)\n",
    "print(a)\n",
    "print(b)"
   ]
  },
  {
   "cell_type": "code",
   "execution_count": 15,
   "id": "b8592d74-b4b7-4d0b-9db9-f1a6efedee98",
   "metadata": {},
   "outputs": [
    {
     "name": "stdout",
     "output_type": "stream",
     "text": [
      "['Shyam', 'Hari', 'Sita,Gita']\n"
     ]
    }
   ],
   "source": [
    "a=['Ram','Shyam','Hari','Ram','Sita'',Gita','Ram']\n",
    "c=a.count(\"Ram\")\n",
    "for i in range(c):\n",
    "    a.remove('Ram')\n",
    "\n",
    "print(a)"
   ]
  },
  {
   "cell_type": "code",
   "execution_count": 19,
   "id": "d91ff810-ccf1-4449-adbf-9460a1550ddc",
   "metadata": {},
   "outputs": [
    {
     "name": "stdout",
     "output_type": "stream",
     "text": [
      "0\n",
      "3\n",
      "5\n"
     ]
    }
   ],
   "source": [
    "#Read the index\n",
    "a=['Ram','Shyam','Hari','Ram','Sita'',Gita','Ram']\n",
    "for i in range(len(a)):\n",
    "    if \"Ram\"==a[i]:\n",
    "        print(i)"
   ]
  },
  {
   "cell_type": "code",
   "execution_count": 21,
   "id": "158456e5-cd4a-4c02-a874-e459954a43c3",
   "metadata": {},
   "outputs": [
    {
     "name": "stdout",
     "output_type": "stream",
     "text": [
      "['Rama', 'Shyam', 'Hari', 'Rama', 'Sita,Gita', 'Rama']\n"
     ]
    }
   ],
   "source": [
    "#Read and Update\n",
    "a=['Ram','Shyam','Hari','Ram','Sita'',Gita','Ram']\n",
    "for i in range(len(a)):\n",
    "    if \"Ram\"==a[i]:\n",
    "        a[i]=\"Rama\"\n",
    "print(a)"
   ]
  },
  {
   "cell_type": "code",
   "execution_count": 25,
   "id": "ed5802c3-5873-48ee-942f-1e6dae8b7d55",
   "metadata": {},
   "outputs": [
    {
     "name": "stdout",
     "output_type": "stream",
     "text": [
      "The min value= 123\n",
      "The max value= 632\n",
      "The sum of list= 2722\n",
      "[123, 124, 234, 321, 354, 456, 478, 632]\n",
      "[632, 478, 456, 354, 321, 234, 124, 123]\n"
     ]
    }
   ],
   "source": [
    "#Basic Math\n",
    "#min() max() sum() sort() reverse()\n",
    "a=[123,456,124,321,632,478,354,234]\n",
    "print(\"The min value=\",min(a))\n",
    "print(\"The max value=\",max(a))\n",
    "print(\"The sum of list=\",sum(a))\n",
    "a.sort()\n",
    "print(a)\n",
    "a.reverse()\n",
    "print(a)"
   ]
  },
  {
   "cell_type": "code",
   "execution_count": 27,
   "id": "ed3c76a1-0b62-41fb-aad9-641e904e8c11",
   "metadata": {},
   "outputs": [
    {
     "name": "stdout",
     "output_type": "stream",
     "text": [
      "['Apple', 'Bat', 'Cat', 'Zebra', 'ant']\n"
     ]
    }
   ],
   "source": [
    "a=[\"Zebra\",\"Apple\",\"Cat\",\"Bat\",\"ant\"]\n",
    "a.sort()\n",
    "print(a)"
   ]
  },
  {
   "cell_type": "code",
   "execution_count": 29,
   "id": "031e5801-899a-4f6a-9670-a36b8176866d",
   "metadata": {},
   "outputs": [
    {
     "name": "stdout",
     "output_type": "stream",
     "text": [
      "['1', '2', 'Apple', 'Bat', 'Cat', 'Zebra', 'ant']\n"
     ]
    }
   ],
   "source": [
    "a=[\"Zebra\",\"Apple\",\"Cat\",\"Bat\",\"ant\",\"1\",\"2\"]\n",
    "a.sort()\n",
    "print(a)"
   ]
  },
  {
   "cell_type": "code",
   "execution_count": 31,
   "id": "e3267de6-4869-4c32-b471-12b13698231c",
   "metadata": {},
   "outputs": [
    {
     "name": "stdout",
     "output_type": "stream",
     "text": [
      "['.Zebra', '1', '1ant', '2', 'Apple', 'Bat', 'Cat']\n"
     ]
    }
   ],
   "source": [
    "a=[\".Zebra\",\"Apple\",\"Cat\",\"Bat\",\"1ant\",\"1\",\"2\"]\n",
    "a.sort()\n",
    "print(a)"
   ]
  },
  {
   "cell_type": "code",
   "execution_count": 33,
   "id": "23df0a54-f384-4281-8874-2a2374e3cd19",
   "metadata": {},
   "outputs": [
    {
     "name": "stdin",
     "output_type": "stream",
     "text": [
      "Enter data for search= Apple\n"
     ]
    },
    {
     "name": "stdout",
     "output_type": "stream",
     "text": [
      "Yes there is\n",
      "1\n"
     ]
    }
   ],
   "source": [
    "#Search\n",
    "a=[\"Zebra\",\"Apple\",\"Cat\",\"Bat\",\"ant\"]\n",
    "search= input(\"Enter data for search=\")\n",
    "if search in a:\n",
    "    print(\"Yes there is\")\n",
    "    print(a.count(search))\n",
    "else:\n",
    "    print(\"There is no such Apple\")"
   ]
  },
  {
   "cell_type": "code",
   "execution_count": 35,
   "id": "85d39db8-b00f-4377-a07f-f8d09165cb42",
   "metadata": {},
   "outputs": [],
   "source": [
    "#Make caseinsensitive"
   ]
  },
  {
   "cell_type": "code",
   "execution_count": 37,
   "id": "7992a48e-a121-47cd-80fe-12a533e78fe0",
   "metadata": {},
   "outputs": [
    {
     "name": "stdout",
     "output_type": "stream",
     "text": [
      "[['Ram', 34, 'Kathmandu'], ['Shyam', 78, 'Bhaktapur'], ['Hari', 56, 'Lalitpur']]\n"
     ]
    }
   ],
   "source": [
    "#nested list\n",
    "a=[['Ram',34,'Kathmandu'],\n",
    "   ['Shyam',78,'Bhaktapur'],\n",
    "   ['Hari',56,'Lalitpur']]\n",
    "print(a)"
   ]
  },
  {
   "cell_type": "code",
   "execution_count": 39,
   "id": "8e3f46cf-2f9e-4f98-95a8-4a74673cc463",
   "metadata": {},
   "outputs": [
    {
     "name": "stdin",
     "output_type": "stream",
     "text": [
      "Enter n= 3\n",
      "Enter name= Ram\n",
      "Enter age= 34\n",
      "Enter add= Kathmandu\n",
      "Enter name= shyam\n",
      "Enter age= 78\n",
      "Enter add= Bhaktapur\n",
      "Enter name= Hari\n",
      "Enter age= 56\n",
      "Enter add= Lalitpur\n"
     ]
    },
    {
     "name": "stdout",
     "output_type": "stream",
     "text": [
      "[['Ram', 34, 'Kathmandu'], ['shyam', 78, 'Bhaktapur'], ['Hari', 56, 'Lalitpur']]\n"
     ]
    }
   ],
   "source": [
    "info=[]\n",
    "n= int(input(\"Enter n=\"))\n",
    "for i in range(n):\n",
    "    name =input(\"Enter name=\")\n",
    "    age =int(input(\"Enter age=\"))\n",
    "    add =input(\"Enter add=\")\n",
    "    info.append([name,age,add])\n",
    "\n",
    "print(info)"
   ]
  },
  {
   "cell_type": "code",
   "execution_count": 41,
   "id": "d8065f6e-7584-4bba-b15e-061eb99c280e",
   "metadata": {},
   "outputs": [
    {
     "name": "stdout",
     "output_type": "stream",
     "text": [
      "['Ram', 34, 'Kathmandu']\n",
      "Ram\n"
     ]
    }
   ],
   "source": [
    "print(info[0])\n",
    "print(info[0][0])"
   ]
  },
  {
   "cell_type": "code",
   "execution_count": 45,
   "id": "acbcf221-4ed8-49ec-a264-ab5f28547087",
   "metadata": {},
   "outputs": [
    {
     "name": "stdout",
     "output_type": "stream",
     "text": [
      "['Ram', 34, 'Kathmandu']\n",
      "['shyam', 78, 'Bhaktapur']\n",
      "['Hari', 56, 'Lalitpur']\n"
     ]
    }
   ],
   "source": [
    "for i in info:\n",
    "    print(i)\n"
   ]
  },
  {
   "cell_type": "code",
   "execution_count": 47,
   "id": "7e3e4812-3751-44b8-9c1f-b584178d4ca9",
   "metadata": {},
   "outputs": [
    {
     "name": "stdin",
     "output_type": "stream",
     "text": [
      "Enter name= Ram\n"
     ]
    },
    {
     "name": "stdout",
     "output_type": "stream",
     "text": [
      "['Ram', 34, 'Kathmandu']\n"
     ]
    }
   ],
   "source": [
    "# Search with name\n",
    "name=input(\"Enter name=\")\n",
    "for i in info:\n",
    "    if name in i:\n",
    "        print(i)\n",
    "        "
   ]
  },
  {
   "cell_type": "code",
   "execution_count": 63,
   "id": "e124accd-02a2-4ca9-a299-7bfdcee2ac70",
   "metadata": {},
   "outputs": [
    {
     "name": "stdin",
     "output_type": "stream",
     "text": [
      "Enter age= 60\n"
     ]
    },
    {
     "name": "stdout",
     "output_type": "stream",
     "text": [
      "['shyam', 78, 'Bhaktapur']\n"
     ]
    }
   ],
   "source": [
    "age=int(input(\"Enter age=\"))\n",
    "for i in info:\n",
    "    if i[1] >=age:\n",
    "        print(i)\n",
    "        "
   ]
  },
  {
   "cell_type": "code",
   "execution_count": null,
   "id": "6cc12ea6-4fb5-4b32-9dd2-8a874a7bc5e6",
   "metadata": {},
   "outputs": [],
   "source": [
    "#Try CRUD in info"
   ]
  }
 ],
 "metadata": {
  "kernelspec": {
   "display_name": "Python [conda env:base] *",
   "language": "python",
   "name": "conda-base-py"
  },
  "language_info": {
   "codemirror_mode": {
    "name": "ipython",
    "version": 3
   },
   "file_extension": ".py",
   "mimetype": "text/x-python",
   "name": "python",
   "nbconvert_exporter": "python",
   "pygments_lexer": "ipython3",
   "version": "3.12.7"
  }
 },
 "nbformat": 4,
 "nbformat_minor": 5
}
