{
 "cells": [
  {
   "cell_type": "code",
   "execution_count": 5,
   "id": "436eff99-da04-454b-bbcc-71030f907902",
   "metadata": {},
   "outputs": [
    {
     "name": "stdout",
     "output_type": "stream",
     "text": [
      "<class 'str'>\n",
      "<class 'str'>\n",
      "<class 'str'>\n"
     ]
    }
   ],
   "source": [
    "# string\n",
    "a = 'Hello World'\n",
    "b = \"Hello World\"\n",
    "c = '''Hello World'''\n",
    "print(type(a))\n",
    "print(type(b))\n",
    "print(type(c))"
   ]
  },
  {
   "cell_type": "code",
   "execution_count": 7,
   "id": "169f04a0-5bd1-499e-850c-20812059bd46",
   "metadata": {},
   "outputs": [
    {
     "name": "stdout",
     "output_type": "stream",
     "text": [
      "HelloWorld\n"
     ]
    }
   ],
   "source": [
    "a = \"Hello\"\n",
    "b = \"World\"\n",
    "c = a+b\n",
    "print(c)\n"
   ]
  },
  {
   "cell_type": "code",
   "execution_count": 9,
   "id": "d785d8ee-65e1-4923-ae93-7e333fd02880",
   "metadata": {},
   "outputs": [
    {
     "name": "stdout",
     "output_type": "stream",
     "text": [
      "Hello World\n",
      "Hello World\n",
      "\n"
     ]
    }
   ],
   "source": [
    "a= \"Hello World\\n\"\n",
    "b= 2\n",
    "print(a*b)"
   ]
  },
  {
   "cell_type": "code",
   "execution_count": 13,
   "id": "24890335-a6a7-4fc6-83e5-dbbaa324184a",
   "metadata": {},
   "outputs": [],
   "source": [
    "# sting is imutable"
   ]
  },
  {
   "cell_type": "code",
   "execution_count": 15,
   "id": "dadfde0a-4ca4-4060-90e3-57fdd9918c9b",
   "metadata": {},
   "outputs": [
    {
     "name": "stdout",
     "output_type": "stream",
     "text": [
      "H\n",
      "d\n"
     ]
    }
   ],
   "source": [
    "a = \"Hello World\"\n",
    "print(a[0])\n",
    "print(a[-1])"
   ]
  },
  {
   "cell_type": "code",
   "execution_count": 19,
   "id": "e04684d3-4ab8-487d-b584-9e887b578c5e",
   "metadata": {},
   "outputs": [
    {
     "name": "stdout",
     "output_type": "stream",
     "text": [
      "Hello\n",
      "World\n"
     ]
    }
   ],
   "source": [
    "print(a[0:5])   #string slicing\n",
    "print(a[6:])"
   ]
  },
  {
   "cell_type": "code",
   "execution_count": 21,
   "id": "259baaa6-f5d6-49bd-82c4-7a76314d0f53",
   "metadata": {},
   "outputs": [
    {
     "name": "stdout",
     "output_type": "stream",
     "text": [
      "World\n"
     ]
    }
   ],
   "source": [
    "print(a[6:100])"
   ]
  },
  {
   "cell_type": "code",
   "execution_count": 23,
   "id": "681e5730-e23a-4be6-9972-fd59b0e09847",
   "metadata": {},
   "outputs": [
    {
     "name": "stdout",
     "output_type": "stream",
     "text": [
      "11\n"
     ]
    }
   ],
   "source": [
    "a = \"Hello World\"\n",
    "c = len(a)\n",
    "print(c)"
   ]
  },
  {
   "cell_type": "code",
   "execution_count": 25,
   "id": "6bf23656-39a0-49d6-ac71-4357bca48479",
   "metadata": {},
   "outputs": [
    {
     "name": "stdout",
     "output_type": "stream",
     "text": [
      "dlroW olle\n"
     ]
    }
   ],
   "source": [
    "print(a[c-1:0:-1])"
   ]
  },
  {
   "cell_type": "code",
   "execution_count": 27,
   "id": "69c8829d-8aa4-4c53-b2f4-6effd7d2c1e0",
   "metadata": {},
   "outputs": [
    {
     "name": "stdout",
     "output_type": "stream",
     "text": [
      "HloWrd\n"
     ]
    }
   ],
   "source": [
    "print(a[0:11:2])"
   ]
  },
  {
   "cell_type": "code",
   "execution_count": 29,
   "id": "3e8da959-9bea-4896-8518-7c2ff8eda176",
   "metadata": {},
   "outputs": [
    {
     "name": "stdout",
     "output_type": "stream",
     "text": [
      "dlroW olleH\n"
     ]
    }
   ],
   "source": [
    "print(a[::-1])"
   ]
  },
  {
   "cell_type": "code",
   "execution_count": 31,
   "id": "3d872720-c783-4803-a9f6-ea177e1d1863",
   "metadata": {},
   "outputs": [
    {
     "name": "stdout",
     "output_type": "stream",
     "text": [
      "H\n",
      "e\n",
      "l\n",
      "l\n",
      "o\n",
      " \n",
      "W\n",
      "o\n",
      "r\n",
      "l\n",
      "d\n"
     ]
    }
   ],
   "source": [
    "for i in a:\n",
    "    print(i)"
   ]
  },
  {
   "cell_type": "code",
   "execution_count": 33,
   "id": "30aa2806-0eae-401f-ab88-5cfae79fd918",
   "metadata": {},
   "outputs": [
    {
     "name": "stdout",
     "output_type": "stream",
     "text": [
      "H\n",
      "e\n",
      "l\n",
      "l\n",
      "o\n",
      " \n",
      "W\n",
      "o\n",
      "r\n",
      "l\n",
      "d\n"
     ]
    }
   ],
   "source": [
    "a = \"Hello World\"\n",
    "l = len(a)\n",
    "for i in range(l):\n",
    "    print(a[i])"
   ]
  },
  {
   "cell_type": "code",
   "execution_count": 37,
   "id": "97c3483f-5611-4345-a357-89697a37af94",
   "metadata": {},
   "outputs": [
    {
     "name": "stdout",
     "output_type": "stream",
     "text": [
      "11\n",
      "24\n"
     ]
    }
   ],
   "source": [
    "a = \"Hello World. I am python.\"\n",
    "l = len(a)\n",
    "for i in range(l):\n",
    "    if a[i]==\".\":\n",
    "        print(i)"
   ]
  },
  {
   "cell_type": "code",
   "execution_count": 1,
   "id": "9c879fc2-9bde-45e7-8dbc-0cd6f4b2daa5",
   "metadata": {},
   "outputs": [
    {
     "name": "stdout",
     "output_type": "stream",
     "text": [
      "Hello World. I am python."
     ]
    }
   ],
   "source": [
    "i = 0\n",
    "a = \"Hello World. I am python.\"\n",
    "l = len(a)\n",
    "while i<l:\n",
    "    print(a[i],end =\"\")\n",
    "    i=i+1"
   ]
  },
  {
   "cell_type": "code",
   "execution_count": 3,
   "id": "b89a6fa9-15d4-4575-a1bf-dc56faab5475",
   "metadata": {},
   "outputs": [
    {
     "name": "stdout",
     "output_type": "stream",
     "text": [
      "11\n",
      "24\n"
     ]
    }
   ],
   "source": [
    "i = 0\n",
    "a = \"Hello World. I am python.\"\n",
    "l = len(a)\n",
    "while i<l:\n",
    "    if a[i]==\".\":\n",
    "        print(i)\n",
    "    i=i+1"
   ]
  },
  {
   "cell_type": "code",
   "execution_count": 9,
   "id": "b701e198-6ce1-4ba6-b212-20f33c5cdb8f",
   "metadata": {},
   "outputs": [
    {
     "name": "stdout",
     "output_type": "stream",
     "text": [
      "Hello World I amRamI am fromKAthmanduI am30\n"
     ]
    }
   ],
   "source": [
    "name = \"Ram\"\n",
    "age = 30\n",
    "add = \"KAthmandu\"\n",
    "info = \"Hello World I am\"+name+\"I am from\"+add+\"I am\"+str(age)\n",
    "print(info)"
   ]
  },
  {
   "cell_type": "code",
   "execution_count": 13,
   "id": "1569f0dc-6d52-40b6-a1b2-f80c2ddb8e91",
   "metadata": {},
   "outputs": [
    {
     "name": "stdout",
     "output_type": "stream",
     "text": [
      "Hello World I am from Ram I am KAthmandu I am 30\n"
     ]
    }
   ],
   "source": [
    "#string formatting\n",
    "info = f\"Hello World I am from {name} I am {add} I am {age}\"\n",
    "print(info)"
   ]
  },
  {
   "cell_type": "code",
   "execution_count": 21,
   "id": "47435d80-6e94-45ea-bd75-b6df671fda61",
   "metadata": {},
   "outputs": [
    {
     "name": "stdin",
     "output_type": "stream",
     "text": [
      "Enter n= 2\n",
      "Enter product name = Apple\n",
      "Enter price = 300\n",
      "Enter quantity = 2\n",
      "Enter product name = Banana\n",
      "Enter price = 120\n",
      "Enter quantity = 3\n"
     ]
    },
    {
     "name": "stdout",
     "output_type": "stream",
     "text": [
      "Your Bill\n",
      " Apple 300 2.0 600.0\n",
      "Banana 120 3.0 360.0\n",
      "\n",
      "Your Total\n",
      " 960.0\n"
     ]
    }
   ],
   "source": [
    "#Billing system\n",
    "bill = \"\"\n",
    "s=0\n",
    "n=int(input(\"Enter n=\"))\n",
    "for i in range(n):\n",
    "    product = input(\"Enter product name =\")\n",
    "    price = int(input(\"Enter price =\"))\n",
    "    qty = float(input(\"Enter quantity =\"))\n",
    "    total = price*qty\n",
    "    row = f\"{product} {price} {qty} {total}\\n\"\n",
    "    bill = bill+row\n",
    "    s=s+total\n",
    "print(\"Your Bill\\n\",bill)\n",
    "print(\"Your Total\\n\",s)"
   ]
  },
  {
   "cell_type": "code",
   "execution_count": 3,
   "id": "94f5a1e4-df1d-46eb-9cef-5168e613491b",
   "metadata": {},
   "outputs": [
    {
     "name": "stdin",
     "output_type": "stream",
     "text": [
      "Enter name= Ram\n"
     ]
    },
    {
     "name": "stdout",
     "output_type": "stream",
     "text": [
      "Yes there is Ram\n",
      "1\n"
     ]
    }
   ],
   "source": [
    "# search\n",
    "data = \"Ram Shyam Hari Sabin Rita\"\n",
    "name = input(\"Enter name=\")\n",
    "if name in data:\n",
    "    print(\"Yes there is\",name)\n",
    "    print(data.count(name))\n",
    "else:\n",
    "    print(\"There is no such name\")\n"
   ]
  },
  {
   "cell_type": "code",
   "execution_count": 5,
   "id": "2272039d-4d1d-4f2f-aa2a-528850153952",
   "metadata": {},
   "outputs": [
    {
     "name": "stdout",
     "output_type": "stream",
     "text": [
      "RAM SHYAM HARI SABIN RITA\n",
      "ram shyam hari sabin rita\n"
     ]
    }
   ],
   "source": [
    "data = \"Ram Shyam Hari Sabin Rita\"\n",
    "print(data.upper())\n",
    "print(data.lower())"
   ]
  },
  {
   "cell_type": "code",
   "execution_count": 7,
   "id": "06c9c97c-ded8-4ed8-be71-985fd7712edc",
   "metadata": {},
   "outputs": [
    {
     "name": "stdin",
     "output_type": "stream",
     "text": [
      "Enter name= rAm\n"
     ]
    },
    {
     "name": "stdout",
     "output_type": "stream",
     "text": [
      "Yes there is ram\n",
      "1\n"
     ]
    }
   ],
   "source": [
    "# search\n",
    "data = \"Ram Shyam Hari Sabin Rita\".lower()\n",
    "name = input(\"Enter name=\").lower()\n",
    "if name in data:\n",
    "    print(\"Yes there is\",name)\n",
    "    print(data.count(name))\n",
    "else:\n",
    "    print(\"There is no such name\")\n"
   ]
  },
  {
   "cell_type": "code",
   "execution_count": 9,
   "id": "56b54680-18af-4ba7-b526-0aab375f2a08",
   "metadata": {},
   "outputs": [
    {
     "name": "stdout",
     "output_type": "stream",
     "text": [
      "Ram Shyam Harry Sabin Rita\n"
     ]
    }
   ],
   "source": [
    "# replace()\n",
    "data = \"Ram Shyam Hari Sabin Rita\"\n",
    "data = data.replace(\"Hari\",\"Harry\")\n",
    "print(data)\n"
   ]
  },
  {
   "cell_type": "code",
   "execution_count": 17,
   "id": "89c7aac0-f85f-435c-86b2-4f312ce73134",
   "metadata": {},
   "outputs": [
    {
     "name": "stdout",
     "output_type": "stream",
     "text": [
      "Ram Shyam  Sabin Rita\n"
     ]
    }
   ],
   "source": [
    "#replace()\n",
    "data = \"Ram Shyam Hari Sabin Rita\"\n",
    "data = data.replace(\"Hari\",\"\")\n",
    "print(data)\n"
   ]
  },
  {
   "cell_type": "code",
   "execution_count": 15,
   "id": "f1c0693d-ad50-4f02-81a0-1b8a200760a7",
   "metadata": {},
   "outputs": [
    {
     "name": "stdout",
     "output_type": "stream",
     "text": [
      "Ram Shyam Hari Sabin Rita\n"
     ]
    }
   ],
   "source": [
    "a = \"ram shyam hari sabin rita\"\n",
    "print(a.title())"
   ]
  },
  {
   "cell_type": "code",
   "execution_count": 27,
   "id": "7af003e0-83ba-4258-922a-167bea7fb3ab",
   "metadata": {},
   "outputs": [
    {
     "name": "stdin",
     "output_type": "stream",
     "text": [
      "Enter name= Ram\n"
     ]
    },
    {
     "name": "stdout",
     "output_type": "stream",
     "text": [
      "Yes there is ram\n",
      "2\n",
      " Shyam Hari Sabin Rita Esh Nabin\n"
     ]
    }
   ],
   "source": [
    "# search and replace\n",
    "data = \"Ram Shyam Hari Sabin Rita Ramesh Nabin\".lower()\n",
    "name = input(\"Enter name=\").lower()\n",
    "if name in data:\n",
    "    print(\"Yes there is\",name)\n",
    "    print(data.count(name))\n",
    "    data =data.replace(name,\"\")\n",
    "    print(data.title())\n",
    "else:\n",
    "    print(\"There is no such name\")\n"
   ]
  },
  {
   "cell_type": "code",
   "execution_count": 29,
   "id": "24fe0a2c-6d67-4de7-b5e8-c54eb800b901",
   "metadata": {},
   "outputs": [],
   "source": [
    "data = \"Ram Shyam Hari Sabin Rita Ramesh Nabin\"\n",
    "data =data[3:]\n",
    "data =data[0:-3]"
   ]
  },
  {
   "cell_type": "code",
   "execution_count": null,
   "id": "bbc47991-3b5f-4ed7-ac43-7401573d80f5",
   "metadata": {},
   "outputs": [],
   "source": [
    "# WAP to enter marks of the students calclate total percentage and grade and create a data entry application"
   ]
  },
  {
   "cell_type": "code",
   "execution_count": 5,
   "id": "826f7c94-793a-48ac-8232-b6c908dac7ba",
   "metadata": {},
   "outputs": [
    {
     "name": "stdin",
     "output_type": "stream",
     "text": [
      "Enter n= 3\n",
      "Enter name= Ram\n"
     ]
    },
    {
     "ename": "ValueError",
     "evalue": "invalid literal for int() with base 10: 'Ram'",
     "output_type": "error",
     "traceback": [
      "\u001b[1;31m---------------------------------------------------------------------------\u001b[0m",
      "\u001b[1;31mValueError\u001b[0m                                Traceback (most recent call last)",
      "Cell \u001b[1;32mIn[5], line 4\u001b[0m\n\u001b[0;32m      2\u001b[0m n \u001b[38;5;241m=\u001b[39m\u001b[38;5;28mint\u001b[39m(\u001b[38;5;28minput\u001b[39m(\u001b[38;5;124m\"\u001b[39m\u001b[38;5;124mEnter n=\u001b[39m\u001b[38;5;124m\"\u001b[39m))\n\u001b[0;32m      3\u001b[0m \u001b[38;5;28;01mfor\u001b[39;00m i \u001b[38;5;129;01min\u001b[39;00m \u001b[38;5;28mrange\u001b[39m(n):\n\u001b[1;32m----> 4\u001b[0m     name\u001b[38;5;241m=\u001b[39m\u001b[38;5;28mint\u001b[39m(\u001b[38;5;28minput\u001b[39m(\u001b[38;5;124m\"\u001b[39m\u001b[38;5;124mEnter name=\u001b[39m\u001b[38;5;124m\"\u001b[39m))\n\u001b[0;32m      5\u001b[0m     phy\u001b[38;5;241m=\u001b[39m\u001b[38;5;28mint\u001b[39m(\u001b[38;5;28minput\u001b[39m(\u001b[38;5;124m\"\u001b[39m\u001b[38;5;124mEnter physics=\u001b[39m\u001b[38;5;124m\"\u001b[39m))\n\u001b[0;32m      6\u001b[0m     che\u001b[38;5;241m=\u001b[39m\u001b[38;5;28mint\u001b[39m(\u001b[38;5;28minput\u001b[39m(\u001b[38;5;124m\"\u001b[39m\u001b[38;5;124mEnter chemistry=\u001b[39m\u001b[38;5;124m\"\u001b[39m))\n",
      "\u001b[1;31mValueError\u001b[0m: invalid literal for int() with base 10: 'Ram'"
     ]
    }
   ],
   "source": [
    "result =\"\"\n",
    "n =int(input(\"Enter n=\"))\n",
    "for i in range(n):\n",
    "    name=int(input(\"Enter name=\"))\n",
    "    phy=int(input(\"Enter physics=\"))\n",
    "    che=int(input(\"Enter chemistry=\"))\n",
    "    bio=int(input(\"Enter biology=\"))\n",
    "    eng=int(input(\"Enter english=\"))\n",
    "    nep=int(input(\"Enter nepali=\"))\n",
    "    total=phy+che+bio+eng+nep\n",
    "    per=total/5\n",
    "    if physics>=45 and chemistry>=45 and biology>=45 and english>=45 and nepali>=45:\n",
    "        if per>=80:\n",
    "            grade= 'A'\n",
    "        elif per>=60:\n",
    "            grade='B'\n",
    "        elif per>=45:\n",
    "            grade='C'\n",
    "    else:\n",
    "        grade:'F'\n",
    "        \n",
    "    data=f\"{name} {phy} {chem} {bio} {eng} {nep} {total} {percentage} {grade}\\n\"\n",
    "    result= result + data\n",
    "\n",
    "print(result)\n",
    "\n",
    "        \n",
    "        "
   ]
  },
  {
   "cell_type": "code",
   "execution_count": null,
   "id": "ac4e4eb4-be3e-4e50-a62a-b631ddd771ed",
   "metadata": {},
   "outputs": [],
   "source": []
  }
 ],
 "metadata": {
  "kernelspec": {
   "display_name": "Python [conda env:base] *",
   "language": "python",
   "name": "conda-base-py"
  },
  "language_info": {
   "codemirror_mode": {
    "name": "ipython",
    "version": 3
   },
   "file_extension": ".py",
   "mimetype": "text/x-python",
   "name": "python",
   "nbconvert_exporter": "python",
   "pygments_lexer": "ipython3",
   "version": "3.12.7"
  }
 },
 "nbformat": 4,
 "nbformat_minor": 5
}
