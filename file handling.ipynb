{
 "cells": [
  {
   "cell_type": "code",
   "execution_count": 1,
   "id": "ecacfe88-543d-4fdf-9f97-eeb9e870fb05",
   "metadata": {},
   "outputs": [],
   "source": [
    "# File\n",
    "#open('<file_name>','<mode>')\n",
    "#with open('<file_name>','<name>')\n",
    "# operations\n",
    "#modes\n",
    "# r->read\n",
    "# w->write\n",
    "# x->create\n",
    "# a->append"
   ]
  },
  {
   "cell_type": "code",
   "execution_count": 7,
   "id": "63b04ab6-e772-44bd-a5dc-6c10c333ed81",
   "metadata": {},
   "outputs": [
    {
     "name": "stdout",
     "output_type": "stream",
     "text": [
      "There is same file\n"
     ]
    }
   ],
   "source": [
    "#create\n",
    "try:\n",
    "    file =open('data.txt','x')\n",
    "    file.close()\n",
    "except:\n",
    "    print(\"There is same file\")"
   ]
  },
  {
   "cell_type": "code",
   "execution_count": 15,
   "id": "1efe0040-036a-4451-b34b-8b2b14ae8586",
   "metadata": {},
   "outputs": [],
   "source": [
    "# write\n",
    "data =\"Hello World\"\n",
    "file= open('data1.txt','w')\n",
    "file.write(data)\n",
    "file.close()"
   ]
  },
  {
   "cell_type": "code",
   "execution_count": 13,
   "id": "9e69b507-ec7d-4f05-b04a-390ba01d4498",
   "metadata": {},
   "outputs": [
    {
     "name": "stdout",
     "output_type": "stream",
     "text": [
      "Hello World\n"
     ]
    }
   ],
   "source": [
    "#Read\n",
    "file=open('data.txt','r')\n",
    "my_data=file.read()\n",
    "print(my_data)\n",
    "file.close()"
   ]
  },
  {
   "cell_type": "code",
   "execution_count": 17,
   "id": "23d0e89f-6146-4a77-8ff2-fb019276a213",
   "metadata": {},
   "outputs": [],
   "source": [
    "#append\n",
    "data=\"Hello World\\n\"\n",
    "file=open('data1.txt','a')\n",
    "file.write(data)\n",
    "file.close()\n"
   ]
  },
  {
   "cell_type": "code",
   "execution_count": 23,
   "id": "e2866d21-ce6d-4875-b784-50a6ebd29e44",
   "metadata": {},
   "outputs": [
    {
     "name": "stdin",
     "output_type": "stream",
     "text": [
      "Enter n= 2\n",
      "Enter product name= Rice\n",
      "Enter price= 120\n",
      "Enter quantity= 5\n",
      "Enter product name= Wheat\n",
      "Enter price= 60\n",
      "Enter quantity= 4\n"
     ]
    }
   ],
   "source": [
    "#Bill sysytem\n",
    "bill=\"\"\n",
    "s=0\n",
    "n=int(input(\"Enter n=\"))\n",
    "for i in range(n):\n",
    "    product=input(\"Enter product name=\")\n",
    "    price=int(input(\"Enter price=\"))\n",
    "    qty=float(input(\"Enter quantity=\"))\n",
    "    total=price*qty\n",
    "    row=f\"{product} {price} {qty} {total}\\n\"\n",
    "    bill= bill +row\n",
    "\n",
    "file= open('bill.txt','a')\n",
    "file.write(bill)\n",
    "file.close()\n",
    "    "
   ]
  },
  {
   "cell_type": "code",
   "execution_count": 27,
   "id": "01e133f9-236f-4f6c-8972-f04098443174",
   "metadata": {},
   "outputs": [
    {
     "name": "stdout",
     "output_type": "stream",
     "text": [
      "Rice 120 5.0 600.0\n",
      "Wheat 60 4.0 240.0\n",
      "\n"
     ]
    }
   ],
   "source": [
    "#Read\n",
    "file=open('bill.txt','r')\n",
    "my_data=file.read()\n",
    "print(my_data)\n",
    "file.close()\n"
   ]
  },
  {
   "cell_type": "code",
   "execution_count": 29,
   "id": "5f112a1a-6c93-4da1-b36f-7f29a66ca950",
   "metadata": {},
   "outputs": [
    {
     "data": {
      "text/plain": [
       "'Rice 120 5.0 600.0\\nWheat 60 4.0 240.0\\n'"
      ]
     },
     "execution_count": 29,
     "metadata": {},
     "output_type": "execute_result"
    }
   ],
   "source": [
    "my_data\n"
   ]
  },
  {
   "cell_type": "code",
   "execution_count": 31,
   "id": "20e991d5-69f7-4074-bbb1-84b420612cc7",
   "metadata": {},
   "outputs": [
    {
     "data": {
      "text/plain": [
       "['Rice 120 5.0 600.0', 'Wheat 60 4.0 240.0']"
      ]
     },
     "execution_count": 31,
     "metadata": {},
     "output_type": "execute_result"
    }
   ],
   "source": [
    "row=my_data.split('\\n')[0:-1]\n",
    "row"
   ]
  },
  {
   "cell_type": "code",
   "execution_count": 35,
   "id": "072fd9c4-aa7a-4cb3-a75b-cd5e765bae9b",
   "metadata": {},
   "outputs": [
    {
     "name": "stdout",
     "output_type": "stream",
     "text": [
      "[['Rice', 120, 5.0, 600.0], ['Wheat', 60, 4.0, 240.0]]\n"
     ]
    }
   ],
   "source": [
    "bills=[]\n",
    "for i in row:\n",
    "    x=i.split()\n",
    "    x[1]=int(x[1])\n",
    "    x[2]=float(x[2])\n",
    "    x[3]=float(x[3])\n",
    "    bills.append(x)\n",
    "\n",
    "print(bills)"
   ]
  },
  {
   "cell_type": "code",
   "execution_count": 37,
   "id": "701649c8-33d3-4753-86c0-1dfdaff86a24",
   "metadata": {},
   "outputs": [
    {
     "name": "stdout",
     "output_type": "stream",
     "text": [
      "840.0\n"
     ]
    }
   ],
   "source": [
    "s=0\n",
    "for i in bills:\n",
    "    s=s+i[3]\n",
    "\n",
    "print(s)"
   ]
  },
  {
   "cell_type": "code",
   "execution_count": 49,
   "id": "e05ef102-8c24-4706-9070-340a8df948f2",
   "metadata": {},
   "outputs": [
    {
     "name": "stdin",
     "output_type": "stream",
     "text": [
      "Enter n= 4\n",
      "Enter product name= Apple\n",
      "Enter price= 400\n",
      "Enter quantity= 6\n",
      "Enter product name= Banana\n",
      "Enter price= 250\n",
      "Enter quantity= 5\n",
      "Enter product name= Grape\n",
      "Enter price= 350\n",
      "Enter quantity= 4\n",
      "Enter product name= Pear\n",
      "Enter price= 300\n",
      "Enter quantity= 8\n"
     ]
    }
   ],
   "source": [
    "## Bill sysytem\n",
    "bill=\"\"\n",
    "s=0\n",
    "n=int(input(\"Enter n=\"))\n",
    "for i in range(n):\n",
    "    product=input(\"Enter product name=\")\n",
    "    price=int(input(\"Enter price=\"))\n",
    "    qty=float(input(\"Enter quantity=\"))\n",
    "    total=price*qty\n",
    "    row=f\"{product}, {price}, {qty}, {total}\\n\"\n",
    "    bill= bill +row\n",
    "    s=s+total\n",
    "#write mode\n",
    "file= open('bill.csv','w')\n",
    "file.write('Product,Price,Quantity,Total\\n')\n",
    "file.write(f\"{bill}\\n\")\n",
    "file.write(f\"Total={s}\")\n",
    "file.close()\n",
    "\n",
    "#append\n",
    "file=open('all_bill.csv','a')\n",
    "file.write(bill)\n",
    "file.close()"
   ]
  },
  {
   "cell_type": "code",
   "execution_count": 41,
   "id": "425cad74-3c8d-4f9e-89a8-cabc113a110b",
   "metadata": {},
   "outputs": [
    {
     "data": {
      "text/plain": [
       "'C:\\\\Users\\\\hp\\\\PYTHON 630'"
      ]
     },
     "execution_count": 41,
     "metadata": {},
     "output_type": "execute_result"
    }
   ],
   "source": [
    "pwd\n"
   ]
  },
  {
   "cell_type": "code",
   "execution_count": 5,
   "id": "8a32faed-5891-4a2a-b603-78442cda46c5",
   "metadata": {},
   "outputs": [],
   "source": [
    "import csv\n",
    "bill=[['Name','Price','Quantity','Total'],\n",
    "     ['Apple', 2000, 3.0, 6000.0],\n",
    "     ['Banana', 1000, 2.0, 1000.0],\n",
    "     ['Momo', 200, 3.0, 600.0],\n",
    "     ['Coke', 150, 5.0, 750.0]]\n",
    "file=open('list_bill.csv','w')\n",
    "x=csv.writer(file)\n",
    "x.writerows(bill)\n",
    "file.close()"
   ]
  },
  {
   "cell_type": "code",
   "execution_count": 7,
   "id": "ca7bd568-566b-4634-ab93-88ad21e10b52",
   "metadata": {},
   "outputs": [
    {
     "name": "stdout",
     "output_type": "stream",
     "text": [
      "     Name  Price  Quantity   Total\n",
      "0   Apple   2000       3.0  6000.0\n",
      "1  Banana   1000       2.0  1000.0\n",
      "2    Momo    200       3.0   600.0\n",
      "3    Coke    150       5.0   750.0\n"
     ]
    }
   ],
   "source": [
    "import pandas as pd\n",
    "file = pd.read_csv('list_bill.csv')\n",
    "print(file)"
   ]
  },
  {
   "cell_type": "code",
   "execution_count": 11,
   "id": "ce47ef53-0330-483d-9aba-70c4c94e99fe",
   "metadata": {},
   "outputs": [
    {
     "name": "stdout",
     "output_type": "stream",
     "text": [
      "     Name  price  Quantity   Total\n",
      "0   Apple   2000       3.0  6000.0\n",
      "1  Banana   1000       2.0  1000.0\n",
      "2    Momo    200       3.0   600.0\n",
      "3    Coke    150       5.0   750.0\n"
     ]
    }
   ],
   "source": [
    "#list inside list\n",
    "col=['Name', 'price', 'Quantity', 'Total']\n",
    "bill=[['Apple', 2000, 3.0, 6000.0],\n",
    "     ['Banana', 1000, 2.0, 1000.0],\n",
    "     ['Momo', 200, 3.0, 600.0],\n",
    "     ['Coke', 150, 5.0, 750.0]]\n",
    "df=pd.DataFrame(bill,columns=col)\n",
    "df.to_csv('dataframe_bill.csv')\n",
    "print(df)"
   ]
  },
  {
   "cell_type": "code",
   "execution_count": 13,
   "id": "ccb6b41b-d954-4647-a65e-fcc4e69b17f1",
   "metadata": {},
   "outputs": [
    {
     "name": "stdout",
     "output_type": "stream",
     "text": [
      "    Name  Age        Add\n",
      "0    Ram   34  Kathmandu\n",
      "1  Shyam   38  Bhaktapur\n",
      "2   Hari   52   Lalitpur\n"
     ]
    }
   ],
   "source": [
    "#list inside dictionery\n",
    "data= {'Name':['Ram','Shyam','Hari'],\n",
    "       'Age':[34,38,52],\n",
    "       'Add':['Kathmandu','Bhaktapur','Lalitpur']}\n",
    "df=pd.DataFrame(data)\n",
    "df.to_csv('dictdata.csv')\n",
    "print(df)"
   ]
  },
  {
   "cell_type": "code",
   "execution_count": 15,
   "id": "868d9253-0479-456f-a96e-45565359b58e",
   "metadata": {},
   "outputs": [],
   "source": [
    "#Dictionery write\n",
    "#Dictionery inside list\n",
    "import csv\n",
    "csv_columns = ['Name', 'Age', 'Address']\n",
    "dict = [\n",
    "    {'Name':'Aayush','Age':23,'Address':'Katmandu'},\n",
    "    {'Name':'Shyam','Age':33,'Address':'Patan'}\n",
    "]\n",
    "file=open(\"data.csv\", 'w') \n",
    "writer = csv.DictWriter(file, fieldnames=csv_columns)\n",
    "writer.writeheader()\n",
    "for data in dict:    \n",
    "    writer.writerow(data)\n",
    "file.close()"
   ]
  },
  {
   "cell_type": "code",
   "execution_count": 17,
   "id": "3aece63b-dd3d-4897-88ff-f816b350533b",
   "metadata": {},
   "outputs": [
    {
     "data": {
      "text/plain": [
       "'C:\\\\Users\\\\hp\\\\PYTHON 630'"
      ]
     },
     "execution_count": 17,
     "metadata": {},
     "output_type": "execute_result"
    }
   ],
   "source": [
    "pwd\n"
   ]
  },
  {
   "cell_type": "code",
   "execution_count": 19,
   "id": "49373665-db23-447e-bb29-2889a87d121b",
   "metadata": {},
   "outputs": [
    {
     "name": "stdout",
     "output_type": "stream",
     "text": [
      "     Name  Age   Address\n",
      "0  Aayush   23  Katmandu\n",
      "1   Shyam   33     Patan\n"
     ]
    }
   ],
   "source": [
    "df=pd.read_csv('data.csv')\n",
    "print(df)"
   ]
  },
  {
   "cell_type": "code",
   "execution_count": 23,
   "id": "7f95b047-c1c5-4b0c-ac74-5edb66e18afd",
   "metadata": {},
   "outputs": [
    {
     "name": "stdout",
     "output_type": "stream",
     "text": [
      "{'Name': 'Aayush', 'Age': '23', 'Address': 'Katmandu'}\n",
      "{'Name': 'Shyam', 'Age': '33', 'Address': 'Patan'}\n"
     ]
    }
   ],
   "source": [
    "#Dictionery Read\n",
    "import csv\n",
    "file= open('data.csv') \n",
    "reader = csv.DictReader(file)\n",
    "for row in reader:\n",
    "        print(row)\n"
   ]
  },
  {
   "cell_type": "code",
   "execution_count": null,
   "id": "55bdf6e7-9235-41a0-875e-37134d43c347",
   "metadata": {},
   "outputs": [],
   "source": []
  }
 ],
 "metadata": {
  "kernelspec": {
   "display_name": "Python [conda env:base] *",
   "language": "python",
   "name": "conda-base-py"
  },
  "language_info": {
   "codemirror_mode": {
    "name": "ipython",
    "version": 3
   },
   "file_extension": ".py",
   "mimetype": "text/x-python",
   "name": "python",
   "nbconvert_exporter": "python",
   "pygments_lexer": "ipython3",
   "version": "3.12.7"
  }
 },
 "nbformat": 4,
 "nbformat_minor": 5
}
