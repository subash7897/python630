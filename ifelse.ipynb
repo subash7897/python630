{
 "cells": [
  {
   "cell_type": "code",
   "execution_count": 1,
   "id": "a6d101aa-0b91-4d63-b72b-4d99534ef501",
   "metadata": {},
   "outputs": [],
   "source": [
    "# > < <=  >= == !="
   ]
  },
  {
   "cell_type": "code",
   "execution_count": 3,
   "id": "01540b8f-af4e-4b64-b75f-f78bb88f2bfb",
   "metadata": {},
   "outputs": [],
   "source": [
    "# if<condition>:\n",
    "#     <operation>\n",
    "# elif<condition>:\n",
    "#     <operation>\n",
    "# else:\n",
    "#     <operation>"
   ]
  },
  {
   "cell_type": "code",
   "execution_count": 5,
   "id": "68158480-3ce4-4d88-abe2-660130f6babe",
   "metadata": {},
   "outputs": [
    {
     "name": "stdout",
     "output_type": "stream",
     "text": [
      "a is greater than 5\n"
     ]
    }
   ],
   "source": [
    "a= 10\n",
    "if a>5:\n",
    "    print(\"a is greater than 5\")\n",
    "else:\n",
    "    print(\"a is smaller than 5\")"
   ]
  },
  {
   "cell_type": "code",
   "execution_count": 7,
   "id": "272b5fc2-492a-4d27-b414-46185623a5f1",
   "metadata": {},
   "outputs": [
    {
     "name": "stdin",
     "output_type": "stream",
     "text": [
      "Enter a= 11\n"
     ]
    },
    {
     "name": "stdout",
     "output_type": "stream",
     "text": [
      "11 is odd value\n"
     ]
    }
   ],
   "source": [
    "# 11/2==0\n",
    "a=int(input(\"Enter a=\"))\n",
    "if a/2==0:\n",
    "    print(a, \"is even value\")\n",
    "else:\n",
    "    print(a, \"is odd value\")"
   ]
  },
  {
   "cell_type": "code",
   "execution_count": 9,
   "id": "c0d2ce8a-96df-4a19-8976-3c8b2382c97f",
   "metadata": {},
   "outputs": [
    {
     "name": "stdin",
     "output_type": "stream",
     "text": [
      "Enter a= 10\n",
      "Enter b= 20\n"
     ]
    },
    {
     "name": "stdout",
     "output_type": "stream",
     "text": [
      "b is greater then a\n"
     ]
    }
   ],
   "source": [
    "a= int(input(\"Enter a=\"))\n",
    "b= int(input(\"Enter b=\"))\n",
    "if a > b:\n",
    "    print(\"a is greater than b\")\n",
    "elif b >a :\n",
    "    print(\"b is greater then a\")\n",
    "else:\n",
    "    print(\"a and b are equal\")\n",
    "    "
   ]
  },
  {
   "cell_type": "code",
   "execution_count": 7,
   "id": "56c24e4c-6ec4-4412-b878-6398190ac6db",
   "metadata": {},
   "outputs": [
    {
     "name": "stdin",
     "output_type": "stream",
     "text": [
      "Enter the value of phy= 50\n",
      "Enter the value of che= 60\n",
      "Enter the value of boi= 70\n",
      "Enter the value of eng= 60\n",
      "Enter the value of nep= 90\n"
     ]
    },
    {
     "ename": "NameError",
     "evalue": "name 'total' is not defined",
     "output_type": "error",
     "traceback": [
      "\u001b[1;31m---------------------------------------------------------------------------\u001b[0m",
      "\u001b[1;31mNameError\u001b[0m                                 Traceback (most recent call last)",
      "Cell \u001b[1;32mIn[7], line 9\u001b[0m\n\u001b[0;32m      6\u001b[0m nep \u001b[38;5;241m=\u001b[39m \u001b[38;5;28mint\u001b[39m(\u001b[38;5;28minput\u001b[39m(\u001b[38;5;124m\"\u001b[39m\u001b[38;5;124mEnter the value of nep=\u001b[39m\u001b[38;5;124m\"\u001b[39m))\n\u001b[0;32m      8\u001b[0m Total\u001b[38;5;241m=\u001b[39mphy\u001b[38;5;241m+\u001b[39mche\u001b[38;5;241m+\u001b[39mbio\u001b[38;5;241m+\u001b[39meng\u001b[38;5;241m+\u001b[39mnep\n\u001b[1;32m----> 9\u001b[0m per\u001b[38;5;241m=\u001b[39m total\u001b[38;5;241m/\u001b[39m\u001b[38;5;241m5\u001b[39m\n\u001b[0;32m     11\u001b[0m \u001b[38;5;28;01mif\u001b[39;00m per \u001b[38;5;241m>\u001b[39m\u001b[38;5;241m=\u001b[39m\u001b[38;5;241m80\u001b[39m:\n\u001b[0;32m     12\u001b[0m     grade\u001b[38;5;241m=\u001b[39m\u001b[38;5;124m'\u001b[39m\u001b[38;5;124mA\u001b[39m\u001b[38;5;124m'\u001b[39m\n",
      "\u001b[1;31mNameError\u001b[0m: name 'total' is not defined"
     ]
    }
   ],
   "source": [
    "#WAP to calculate total, per of +2 science student\n",
    "phy = int(input(\"Enter the value of phy=\"))\n",
    "che = int(input(\"Enter the value of che=\"))\n",
    "bio = int(input(\"Enter the value of boi=\"))\n",
    "eng = int(input(\"Enter the value of eng=\"))\n",
    "nep = int(input(\"Enter the value of nep=\"))\n",
    "\n",
    "Total=phy+che+bio+eng+nep\n",
    "per= total/5\n",
    "\n",
    "if per >=80:\n",
    "    grade='A'\n",
    "elif per >=60:\n",
    "    grade= 'B'\n",
    "elif per>= 45:\n",
    "    grade= 'C'\n",
    "else:\n",
    "    grade: 'F'\n",
    "\n",
    "print(\"Total Marks=\",Total)\n",
    "print(\"percentage=\", per)\n",
    "print(\"grade=\", grade)\n",
    "\n",
    "\n"
   ]
  },
  {
   "cell_type": "code",
   "execution_count": 13,
   "id": "f5128750-760f-47a3-91cc-3f30f74a70fb",
   "metadata": {},
   "outputs": [],
   "source": [
    "# Logical operator\n",
    "# and &\n",
    "# or |\n",
    "# not ^"
   ]
  },
  {
   "cell_type": "code",
   "execution_count": 15,
   "id": "1b2e309e-7b95-4bbd-8198-8172a473d91a",
   "metadata": {},
   "outputs": [
    {
     "name": "stdout",
     "output_type": "stream",
     "text": [
      "True\n",
      "False\n",
      "False\n",
      "False\n"
     ]
    }
   ],
   "source": [
    "#and\n",
    "print(True and True)\n",
    "print( True and False)\n",
    "print( False and True)\n",
    "print (False and False)\n"
   ]
  },
  {
   "cell_type": "code",
   "execution_count": 17,
   "id": "1aed74ea-63eb-49ef-b861-6de7e697357b",
   "metadata": {},
   "outputs": [
    {
     "name": "stdout",
     "output_type": "stream",
     "text": [
      "True\n",
      "True\n",
      "False\n",
      "True\n"
     ]
    }
   ],
   "source": [
    "#or\n",
    "print(True or True)\n",
    "print(True or False)\n",
    "print(False or False)\n",
    "print(False or True)"
   ]
  },
  {
   "cell_type": "code",
   "execution_count": null,
   "id": "25068be9-1b90-4a6c-b43c-fd5df973d0a3",
   "metadata": {},
   "outputs": [],
   "source": [
    "# if per>=80 or per <=100:\n",
    "#     grade='A'\n",
    "# elif per >60 or per==60:\n",
    "#     grade='B'\n",
    "# elif per >45 or per ==45:\n",
    "#     grade='C'\n",
    "# else:\n",
    "#     grade='F'"
   ]
  },
  {
   "cell_type": "code",
   "execution_count": 19,
   "id": "dabe70a5-2c8b-4ba3-98e2-c974a2ef82d2",
   "metadata": {},
   "outputs": [],
   "source": [
    "#wap to create a basic calculator\n"
   ]
  },
  {
   "cell_type": "code",
   "execution_count": null,
   "id": "ca0e1824-5a4f-4ccb-87ee-5adb037aa2b0",
   "metadata": {},
   "outputs": [
    {
     "name": "stdin",
     "output_type": "stream",
     "text": [
      "Enter a= 10\n",
      "Enter b= 20\n",
      "Enter + or - or / or * /\n"
     ]
    }
   ],
   "source": [
    "a=int(input(\"Enter a=\"))\n",
    "b=int(input(\"Enter b=\"))\n",
    "o=input(\"Enter + or - or / or *\")\n",
    "\n",
    "if o ==\"+\":\n",
    "    print(a+b)\n",
    "elif o==\"-\":\n",
    "    print(a-b)\n",
    "elif o==\"*\":\n",
    "    print(a*b)\n",
    "elif o==\"/\":\n",
    "    print(a/b)\n",
    "else:\n",
    "    print(\"Invalid operator\")\n",
    "    \n",
    "\n",
    "      "
   ]
  },
  {
   "cell_type": "code",
   "execution_count": 1,
   "id": "c6e7fb45-2b06-43a0-bbd1-e05ee9e80913",
   "metadata": {},
   "outputs": [
    {
     "name": "stdin",
     "output_type": "stream",
     "text": [
      "Enter a= 10\n",
      "Enter b= 0\n",
      "Enter + or - or / or * /\n"
     ]
    },
    {
     "name": "stdout",
     "output_type": "stream",
     "text": [
      "The value of b can not be zero\n"
     ]
    }
   ],
   "source": [
    "a=int(input(\"Enter a=\"))\n",
    "b=int(input(\"Enter b=\"))\n",
    "o=input(\"Enter + or - or / or *\")\n",
    "\n",
    "if o ==\"+\":\n",
    "    print(a+b)\n",
    "elif o==\"-\":\n",
    "    print(a-b)\n",
    "elif o==\"*\":\n",
    "    print(a*b)\n",
    "elif o==\"/\" and b!=0:\n",
    "    print(a/b)\n",
    "elif o==\"/\" and b==0:\n",
    "    print(\"The value of b can not be zero\")\n",
    "\n",
    "else:\n",
    "    print(\"Invalid operator\")\n",
    "    \n",
    "\n",
    "      "
   ]
  },
  {
   "cell_type": "code",
   "execution_count": 9,
   "id": "75c1394f-b2d1-4c71-856d-274004b9c90a",
   "metadata": {},
   "outputs": [],
   "source": [
    "# if<condition>:\n",
    "#     if<condition>:\n",
    "#         <operation>\n",
    "#     else:\n",
    "#         <operation>"
   ]
  },
  {
   "cell_type": "code",
   "execution_count": 11,
   "id": "a1adbc34-5361-45cb-b9a5-eb60a1d842d8",
   "metadata": {},
   "outputs": [],
   "source": [
    "# a + or - even or odd"
   ]
  },
  {
   "cell_type": "code",
   "execution_count": 13,
   "id": "b9d63a93-cb6a-48a3-a5d4-0bbbd5f8b4f4",
   "metadata": {},
   "outputs": [
    {
     "name": "stdin",
     "output_type": "stream",
     "text": [
      "Enter a= 10\n"
     ]
    },
    {
     "name": "stdout",
     "output_type": "stream",
     "text": [
      "10  is +ve and even\n"
     ]
    }
   ],
   "source": [
    "a= int(input(\"Enter a=\"))\n",
    "if a>=0:\n",
    "    if a%2==0:\n",
    "        print(a, \" is +ve and even\")\n",
    "    else:\n",
    "        print(a, \" is +ve and odd\")\n",
    "else:\n",
    "    if a%2==0:\n",
    "        print(a, \"is -ve and even\")\n",
    "    else:\n",
    "        print(a,\" is -ve and odd\")"
   ]
  },
  {
   "cell_type": "code",
   "execution_count": null,
   "id": "042db086-6ef2-420e-acd9-963ca4ea4daf",
   "metadata": {},
   "outputs": [],
   "source": []
  }
 ],
 "metadata": {
  "kernelspec": {
   "display_name": "Python [conda env:base] *",
   "language": "python",
   "name": "conda-base-py"
  },
  "language_info": {
   "codemirror_mode": {
    "name": "ipython",
    "version": 3
   },
   "file_extension": ".py",
   "mimetype": "text/x-python",
   "name": "python",
   "nbconvert_exporter": "python",
   "pygments_lexer": "ipython3",
   "version": "3.12.7"
  }
 },
 "nbformat": 4,
 "nbformat_minor": 5
}
